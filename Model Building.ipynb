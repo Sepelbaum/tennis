{
 "cells": [
  {
   "cell_type": "markdown",
   "metadata": {},
   "source": [
    "# Model Building"
   ]
  },
  {
   "cell_type": "code",
   "execution_count": 6,
   "metadata": {},
   "outputs": [],
   "source": [
    "# Import libraries\n",
    "import numpy as np\n",
    "import pandas as pd\n",
    "import matplotlib.pyplot as plt\n",
    "%matplotlib inline\n",
    "import sklearn\n",
    "import seaborn as sns\n",
    "import warnings\n",
    "from sklearn.model_selection import train_test_split\n",
    "from sklearn.tree import DecisionTreeClassifier \n",
    "from sklearn.metrics import accuracy_score\n",
    "from sklearn.tree import export_graphviz\n",
    "from sklearn.preprocessing import OneHotEncoder\n",
    "from IPython.display import Image  \n",
    "from sklearn.tree import export_graphviz\n",
    "import pydotplus\n",
    "from pydotplus import graph_from_dot_data\n",
    "import pandas\n",
    "from sklearn.model_selection import KFold\n",
    "from sklearn.preprocessing import MinMaxScaler\n",
    "from sklearn.preprocessing import StandardScaler\n",
    "from sklearn.svm import SVR\n",
    "from sklearn.metrics import classification_report\n",
    "from sklearn.model_selection import cross_val_score\n",
    "from sklearn.model_selection import GridSearchCV\n",
    "from sklearn.ensemble import RandomForestClassifier\n",
    "from sklearn.ensemble import GradientBoostingClassifier\n",
    "from sklearn.ensemble import AdaBoostClassifier\n",
    "from sklearn.linear_model import LogisticRegression"
   ]
  },
  {
   "cell_type": "code",
   "execution_count": 7,
   "metadata": {},
   "outputs": [],
   "source": [
    "final_pts_1 = pd.read_csv('updated_final_pts.csv')"
   ]
  },
  {
   "cell_type": "code",
   "execution_count": 280,
   "metadata": {},
   "outputs": [],
   "source": [
    "#create dummies for categorical variables\n",
    "dummies = pd.DataFrame([])\n",
    "\n",
    "PointServer_dummies = pd.get_dummies(final_pts_1.PointServer.astype('category'), \n",
    "                                     prefix=\"PointServer\", drop_first=True)\n",
    "P1BreakPoint_dummies = pd.get_dummies(final_pts_1.P1BreakPoint.astype('category'), \n",
    "                                      prefix=\"P1BP\", drop_first=True)\n",
    "P2BreakPoint_dummies = pd.get_dummies(final_pts_1.P2BreakPoint.astype('category'), \n",
    "                                      prefix=\"P2BP\", drop_first=True)\n",
    "match_id_dummies = pd.get_dummies(final_pts_1.match_id_simplified.astype('category'), \n",
    "                                  prefix=\"match\", drop_first=True)\n",
    "gender_dummies = pd.get_dummies(final_pts_1.gender.astype('category'), prefix=\"gender\", drop_first=True)\n"
   ]
  },
  {
   "cell_type": "code",
   "execution_count": 286,
   "metadata": {},
   "outputs": [],
   "source": [
    "dummies = pd.concat([PointServer_dummies,P1BreakPoint_dummies,\n",
    "                     P2BreakPoint_dummies,gender_dummies], axis=1)"
   ]
  },
  {
   "cell_type": "code",
   "execution_count": 288,
   "metadata": {},
   "outputs": [],
   "source": [
    "cat_to_drop1 = ['PointServer','P1BreakPoint','P2BreakPoint','match_id_simplified',\n",
    "                'gender','match_id']\n",
    "continuous = final_pts_1\n",
    "for col in cat_to_drop1:\n",
    "    continuous = continuous.drop(col, axis=1)\n",
    "\n",
    "continuous['PointNumber'] = continuous['PointNumber'].astype(int)"
   ]
  },
  {
   "cell_type": "code",
   "execution_count": 289,
   "metadata": {},
   "outputs": [],
   "source": [
    "#standardize continuous predictors\n",
    "scaler = sklearn.preprocessing.StandardScaler()\n",
    "scaled_continuous = scaler.fit_transform(continuous)\n",
    "scaled_continuous = pd.DataFrame(scaled_continuous, columns=continuous.columns)"
   ]
  },
  {
   "cell_type": "code",
   "execution_count": 290,
   "metadata": {},
   "outputs": [
    {
     "name": "stderr",
     "output_type": "stream",
     "text": [
      "/Users/sashaepelbaum/anaconda3/lib/python3.7/site-packages/ipykernel_launcher.py:1: SettingWithCopyWarning: \n",
      "A value is trying to be set on a copy of a slice from a DataFrame.\n",
      "Try using .loc[row_indexer,col_indexer] = value instead\n",
      "\n",
      "See the caveats in the documentation: http://pandas.pydata.org/pandas-docs/stable/indexing.html#indexing-view-versus-copy\n",
      "  \"\"\"Entry point for launching an IPython kernel.\n"
     ]
    }
   ],
   "source": [
    "final_pts_1['PointWinner'] = [0 if ele == 2 else ele for ele in final_pts_1['PointWinner']]"
   ]
  },
  {
   "cell_type": "code",
   "execution_count": 291,
   "metadata": {},
   "outputs": [
    {
     "data": {
      "text/plain": [
       "11562"
      ]
     },
     "execution_count": 291,
     "metadata": {},
     "output_type": "execute_result"
    }
   ],
   "source": [
    "sum(final_pts_1['PointWinner'])"
   ]
  },
  {
   "cell_type": "code",
   "execution_count": 293,
   "metadata": {},
   "outputs": [],
   "source": [
    "#target variable\n",
    "Y = final_pts_1['PointWinner']"
   ]
  },
  {
   "cell_type": "code",
   "execution_count": 294,
   "metadata": {},
   "outputs": [],
   "source": [
    "predictors = pd.merge(dummies, scaled_continuous, on=dummies.index)\n",
    "predictors = predictors.drop(['PointWinner'], axis=1).set_index('key_0')\n"
   ]
  },
  {
   "cell_type": "code",
   "execution_count": null,
   "metadata": {},
   "outputs": [],
   "source": []
  },
  {
   "cell_type": "code",
   "execution_count": 295,
   "metadata": {},
   "outputs": [
    {
     "data": {
      "text/html": [
       "<div>\n",
       "<style scoped>\n",
       "    .dataframe tbody tr th:only-of-type {\n",
       "        vertical-align: middle;\n",
       "    }\n",
       "\n",
       "    .dataframe tbody tr th {\n",
       "        vertical-align: top;\n",
       "    }\n",
       "\n",
       "    .dataframe thead th {\n",
       "        text-align: right;\n",
       "    }\n",
       "</style>\n",
       "<table border=\"1\" class=\"dataframe\">\n",
       "  <thead>\n",
       "    <tr style=\"text-align: right;\">\n",
       "      <th></th>\n",
       "      <th>PointServer_2</th>\n",
       "      <th>P1BP_1</th>\n",
       "      <th>P2BP_1</th>\n",
       "      <th>gender_W</th>\n",
       "      <th>SetNo</th>\n",
       "      <th>P1GamesWon</th>\n",
       "      <th>P2GamesWon</th>\n",
       "      <th>GameNo</th>\n",
       "      <th>PointNumber</th>\n",
       "      <th>P1PointsWon</th>\n",
       "      <th>...</th>\n",
       "      <th>P1DistRun_last5</th>\n",
       "      <th>P2DistRun_last5</th>\n",
       "      <th>AvgRallyCount</th>\n",
       "      <th>last_5_RallyCount</th>\n",
       "      <th>P1NetPointWinRate</th>\n",
       "      <th>P2NetPointWinRate</th>\n",
       "      <th>P1NetPointWinRate_last5</th>\n",
       "      <th>P2NetPointWinRate_last5</th>\n",
       "      <th>P1_Score</th>\n",
       "      <th>P2_Score</th>\n",
       "    </tr>\n",
       "    <tr>\n",
       "      <th>key_0</th>\n",
       "      <th></th>\n",
       "      <th></th>\n",
       "      <th></th>\n",
       "      <th></th>\n",
       "      <th></th>\n",
       "      <th></th>\n",
       "      <th></th>\n",
       "      <th></th>\n",
       "      <th></th>\n",
       "      <th></th>\n",
       "      <th></th>\n",
       "      <th></th>\n",
       "      <th></th>\n",
       "      <th></th>\n",
       "      <th></th>\n",
       "      <th></th>\n",
       "      <th></th>\n",
       "      <th></th>\n",
       "      <th></th>\n",
       "      <th></th>\n",
       "      <th></th>\n",
       "    </tr>\n",
       "  </thead>\n",
       "  <tbody>\n",
       "    <tr>\n",
       "      <th>1101-14</th>\n",
       "      <td>1</td>\n",
       "      <td>0</td>\n",
       "      <td>0</td>\n",
       "      <td>0</td>\n",
       "      <td>-1.273038</td>\n",
       "      <td>-0.908209</td>\n",
       "      <td>-1.418723</td>\n",
       "      <td>-1.264238</td>\n",
       "      <td>-1.538701</td>\n",
       "      <td>-1.497535</td>\n",
       "      <td>...</td>\n",
       "      <td>1.367517</td>\n",
       "      <td>1.367517</td>\n",
       "      <td>1.026313</td>\n",
       "      <td>1.696312</td>\n",
       "      <td>-0.279803</td>\n",
       "      <td>-0.281274</td>\n",
       "      <td>-0.273222</td>\n",
       "      <td>-0.275117</td>\n",
       "      <td>1.162279</td>\n",
       "      <td>1.162279</td>\n",
       "    </tr>\n",
       "    <tr>\n",
       "      <th>1101-17</th>\n",
       "      <td>1</td>\n",
       "      <td>0</td>\n",
       "      <td>0</td>\n",
       "      <td>0</td>\n",
       "      <td>-1.273038</td>\n",
       "      <td>-0.908209</td>\n",
       "      <td>-1.418723</td>\n",
       "      <td>-1.264238</td>\n",
       "      <td>-1.494452</td>\n",
       "      <td>-1.439575</td>\n",
       "      <td>...</td>\n",
       "      <td>2.165127</td>\n",
       "      <td>2.165127</td>\n",
       "      <td>1.820122</td>\n",
       "      <td>2.114014</td>\n",
       "      <td>-0.279803</td>\n",
       "      <td>-0.281274</td>\n",
       "      <td>-0.273222</td>\n",
       "      <td>-0.275117</td>\n",
       "      <td>1.931585</td>\n",
       "      <td>1.931585</td>\n",
       "    </tr>\n",
       "    <tr>\n",
       "      <th>1101-19</th>\n",
       "      <td>1</td>\n",
       "      <td>0</td>\n",
       "      <td>0</td>\n",
       "      <td>0</td>\n",
       "      <td>-1.273038</td>\n",
       "      <td>-0.908209</td>\n",
       "      <td>-1.418723</td>\n",
       "      <td>-1.264238</td>\n",
       "      <td>-1.464954</td>\n",
       "      <td>-1.439575</td>\n",
       "      <td>...</td>\n",
       "      <td>3.025023</td>\n",
       "      <td>3.025023</td>\n",
       "      <td>2.502095</td>\n",
       "      <td>3.053845</td>\n",
       "      <td>-0.279803</td>\n",
       "      <td>-0.281274</td>\n",
       "      <td>-0.273222</td>\n",
       "      <td>-0.275117</td>\n",
       "      <td>1.162279</td>\n",
       "      <td>1.162279</td>\n",
       "    </tr>\n",
       "    <tr>\n",
       "      <th>1101-21</th>\n",
       "      <td>1</td>\n",
       "      <td>0</td>\n",
       "      <td>0</td>\n",
       "      <td>0</td>\n",
       "      <td>-1.273038</td>\n",
       "      <td>-0.908209</td>\n",
       "      <td>-1.418723</td>\n",
       "      <td>-1.264238</td>\n",
       "      <td>-1.435455</td>\n",
       "      <td>-1.410596</td>\n",
       "      <td>...</td>\n",
       "      <td>2.469635</td>\n",
       "      <td>2.469635</td>\n",
       "      <td>2.076424</td>\n",
       "      <td>2.218440</td>\n",
       "      <td>-0.279803</td>\n",
       "      <td>-0.281274</td>\n",
       "      <td>-0.273222</td>\n",
       "      <td>-0.275117</td>\n",
       "      <td>1.162279</td>\n",
       "      <td>1.162279</td>\n",
       "    </tr>\n",
       "    <tr>\n",
       "      <th>1101-22</th>\n",
       "      <td>1</td>\n",
       "      <td>0</td>\n",
       "      <td>0</td>\n",
       "      <td>0</td>\n",
       "      <td>-1.273038</td>\n",
       "      <td>-0.908209</td>\n",
       "      <td>-1.418723</td>\n",
       "      <td>-1.264238</td>\n",
       "      <td>-1.420706</td>\n",
       "      <td>-1.410596</td>\n",
       "      <td>...</td>\n",
       "      <td>2.225592</td>\n",
       "      <td>2.225592</td>\n",
       "      <td>2.433577</td>\n",
       "      <td>2.114014</td>\n",
       "      <td>-0.279803</td>\n",
       "      <td>-0.281274</td>\n",
       "      <td>-0.273222</td>\n",
       "      <td>-0.275117</td>\n",
       "      <td>-1.145638</td>\n",
       "      <td>-1.145638</td>\n",
       "    </tr>\n",
       "  </tbody>\n",
       "</table>\n",
       "<p>5 rows × 50 columns</p>\n",
       "</div>"
      ],
      "text/plain": [
       "         PointServer_2  P1BP_1  P2BP_1  gender_W     SetNo  P1GamesWon  \\\n",
       "key_0                                                                    \n",
       "1101-14              1       0       0         0 -1.273038   -0.908209   \n",
       "1101-17              1       0       0         0 -1.273038   -0.908209   \n",
       "1101-19              1       0       0         0 -1.273038   -0.908209   \n",
       "1101-21              1       0       0         0 -1.273038   -0.908209   \n",
       "1101-22              1       0       0         0 -1.273038   -0.908209   \n",
       "\n",
       "         P2GamesWon    GameNo  PointNumber  P1PointsWon  ...  P1DistRun_last5  \\\n",
       "key_0                                                    ...                    \n",
       "1101-14   -1.418723 -1.264238    -1.538701    -1.497535  ...         1.367517   \n",
       "1101-17   -1.418723 -1.264238    -1.494452    -1.439575  ...         2.165127   \n",
       "1101-19   -1.418723 -1.264238    -1.464954    -1.439575  ...         3.025023   \n",
       "1101-21   -1.418723 -1.264238    -1.435455    -1.410596  ...         2.469635   \n",
       "1101-22   -1.418723 -1.264238    -1.420706    -1.410596  ...         2.225592   \n",
       "\n",
       "         P2DistRun_last5  AvgRallyCount  last_5_RallyCount  P1NetPointWinRate  \\\n",
       "key_0                                                                           \n",
       "1101-14         1.367517       1.026313           1.696312          -0.279803   \n",
       "1101-17         2.165127       1.820122           2.114014          -0.279803   \n",
       "1101-19         3.025023       2.502095           3.053845          -0.279803   \n",
       "1101-21         2.469635       2.076424           2.218440          -0.279803   \n",
       "1101-22         2.225592       2.433577           2.114014          -0.279803   \n",
       "\n",
       "         P2NetPointWinRate  P1NetPointWinRate_last5  P2NetPointWinRate_last5  \\\n",
       "key_0                                                                          \n",
       "1101-14          -0.281274                -0.273222                -0.275117   \n",
       "1101-17          -0.281274                -0.273222                -0.275117   \n",
       "1101-19          -0.281274                -0.273222                -0.275117   \n",
       "1101-21          -0.281274                -0.273222                -0.275117   \n",
       "1101-22          -0.281274                -0.273222                -0.275117   \n",
       "\n",
       "         P1_Score  P2_Score  \n",
       "key_0                        \n",
       "1101-14  1.162279  1.162279  \n",
       "1101-17  1.931585  1.931585  \n",
       "1101-19  1.162279  1.162279  \n",
       "1101-21  1.162279  1.162279  \n",
       "1101-22 -1.145638 -1.145638  \n",
       "\n",
       "[5 rows x 50 columns]"
      ]
     },
     "execution_count": 295,
     "metadata": {},
     "output_type": "execute_result"
    }
   ],
   "source": [
    "predictors.head()"
   ]
  },
  {
   "cell_type": "markdown",
   "metadata": {},
   "source": [
    "## Base Model"
   ]
  },
  {
   "cell_type": "code",
   "execution_count": 297,
   "metadata": {},
   "outputs": [
    {
     "data": {
      "text/plain": [
       "0.5016755886321104"
      ]
     },
     "execution_count": 297,
     "metadata": {},
     "output_type": "execute_result"
    }
   ],
   "source": [
    "from sklearn.dummy import DummyClassifier\n",
    "X = predictors\n",
    "y = Y\n",
    "dummy_clf = DummyClassifier()\n",
    "dummy_clf.fit(X, y)\n",
    "\n",
    "dummy_clf.predict(X)\n",
    "\n",
    "#WHAT DOES THIS SCORE MEAN???\n",
    "dummy_clf.score(X, y)"
   ]
  },
  {
   "cell_type": "markdown",
   "metadata": {},
   "source": [
    "# Train-Test Split for Model Building"
   ]
  },
  {
   "cell_type": "code",
   "execution_count": 298,
   "metadata": {},
   "outputs": [],
   "source": [
    "#train-test split\n",
    "X_train, X_test, y_train, y_test = train_test_split(X, y, test_size = 0.3, random_state = 42)\n"
   ]
  },
  {
   "cell_type": "markdown",
   "metadata": {},
   "source": [
    "# Basic Decision Tree"
   ]
  },
  {
   "cell_type": "code",
   "execution_count": 299,
   "metadata": {},
   "outputs": [
    {
     "data": {
      "text/plain": [
       "DecisionTreeClassifier(class_weight=None, criterion='entropy', max_depth=10,\n",
       "                       max_features=None, max_leaf_nodes=None,\n",
       "                       min_impurity_decrease=0.0, min_impurity_split=None,\n",
       "                       min_samples_leaf=1, min_samples_split=2,\n",
       "                       min_weight_fraction_leaf=0.0, presort=False,\n",
       "                       random_state=None, splitter='best')"
      ]
     },
     "execution_count": 299,
     "metadata": {},
     "output_type": "execute_result"
    }
   ],
   "source": [
    "clf= DecisionTreeClassifier(criterion='entropy', max_depth = 10)\n",
    "clf.fit(X_train, y_train)"
   ]
  },
  {
   "cell_type": "code",
   "execution_count": 300,
   "metadata": {},
   "outputs": [],
   "source": [
    "dot_data = export_graphviz(clf, out_file=None, \n",
    "                           feature_names=X_train.columns,  \n",
    "                           class_names=np.unique(y).astype('str'), \n",
    "                           filled=True, rounded=True, special_characters=True)\n",
    "\n",
    "# Draw graph\n",
    "graph = graph_from_dot_data(dot_data)  \n",
    "\n",
    "# Show graph\n",
    "# Image(graph.create_png())"
   ]
  },
  {
   "cell_type": "code",
   "execution_count": 302,
   "metadata": {},
   "outputs": [],
   "source": [
    "# Show graph\n",
    "# Image(graph.create_png())"
   ]
  },
  {
   "cell_type": "code",
   "execution_count": 303,
   "metadata": {},
   "outputs": [
    {
     "name": "stdout",
     "output_type": "stream",
     "text": [
      "Accuracy:  0.7541340295909487\n"
     ]
    }
   ],
   "source": [
    "y_preds = clf.predict(X_test)\n",
    "\n",
    "print('Accuracy: ', accuracy_score(y_test, y_preds))"
   ]
  },
  {
   "cell_type": "markdown",
   "metadata": {},
   "source": [
    "# Model Evaluation Functions"
   ]
  },
  {
   "cell_type": "code",
   "execution_count": 370,
   "metadata": {},
   "outputs": [],
   "source": [
    "from sklearn.metrics import confusion_matrix\n",
    "cm = confusion_matrix(y_test,y_preds)\n",
    "classes = ['P2 Wins', 'P1 Wins']"
   ]
  },
  {
   "cell_type": "code",
   "execution_count": 371,
   "metadata": {},
   "outputs": [],
   "source": [
    "def plot_confusion_matrix(cm, classes,\n",
    "                          normalize=False,\n",
    "                          title='Confusion matrix',\n",
    "                          cmap=plt.cm.Blues):\n",
    "    \"\"\"\n",
    "    This function prints and plots the confusion matrix.\n",
    "    Normalization can be applied by setting `normalize=True`.\n",
    "    \"\"\"\n",
    "    if normalize:\n",
    "        cm = cm.astype('float') / cm.sum(axis=1)[:, np.newaxis]\n",
    "        print(\"Normalized confusion matrix\")\n",
    "    else:\n",
    "        print('Confusion Matrix, without normalization')\n",
    "\n",
    "    print(cm)\n",
    "\n",
    "    plt.imshow(cm, interpolation='nearest', cmap=cmap)\n",
    "    plt.title(title)\n",
    "    plt.colorbar()\n",
    "    tick_marks = np.arange(len(classes))\n",
    "    plt.xticks(tick_marks, classes, rotation=45)\n",
    "    plt.yticks(tick_marks, classes)\n",
    "\n",
    "    fmt = '.2f' if normalize else 'd'\n",
    "    thresh = cm.max() / 2.\n",
    "    for i, j in itertools.product(range(cm.shape[0]), range(cm.shape[1])):\n",
    "        plt.text(j, i, format(cm[i, j], fmt),\n",
    "                 horizontalalignment=\"center\",\n",
    "                 color=\"white\" if cm[i, j] > thresh else \"black\")\n",
    "\n",
    "    plt.tight_layout()\n",
    "    plt.ylabel('True label')\n",
    "    plt.xlabel('Predicted label')"
   ]
  },
  {
   "cell_type": "code",
   "execution_count": 372,
   "metadata": {},
   "outputs": [],
   "source": [
    "def matrix_interpretation( y_test, y_preds):\n",
    "    confusion = sklearn.metrics.confusion_matrix(y_test, y_preds)\n",
    "    TP = confusion[1, 1]\n",
    "    TN = confusion[0, 0]\n",
    "    FP = confusion[0, 1]\n",
    "    FN = confusion[1, 0]\n",
    "    print('There are {0} True Positives'.format(TP))\n",
    "    print('There are {0} True Negatives'.format(TN))\n",
    "    print('There are {0} False Positives'.format(FP))\n",
    "    print('There are {0} False Negatives'.format(FN))\n"
   ]
  },
  {
   "cell_type": "code",
   "execution_count": 373,
   "metadata": {},
   "outputs": [],
   "source": [
    "def evaluate_class(y_test, y_preds):\n",
    "\n",
    "    acc = accuracy_score(y_test, y_preds)\n",
    "    precision = sklearn.metrics.precision_score(y_test, y_preds)\n",
    "    recall = sklearn.metrics.recall_score(y_test,y_preds)\n",
    "    roc_auc = sklearn.metrics.roc_auc_score(y_test, y_preds)\n",
    "    #Overall, how often is the classifier correct?\n",
    "    print('Accuracy is :{0}'.format(acc))\n",
    "    #When a positive value is predicted, how often is the prediction correct?\n",
    "    print('Precision is :{0}'.format(precision))\n",
    "    #What proportion of actual positives was identified correctly?\n",
    "    print('Recall is :{0}'.format(recall))\n",
    "    #What does this mean?!\n",
    "    print('\\nAUC is :{0}'.format(round(roc_auc, 2)))\n",
    "    return acc, precision, recall, roc_auc\n"
   ]
  },
  {
   "cell_type": "markdown",
   "metadata": {},
   "source": [
    "## Testing Model Evaluation Functions on Basic Decision Tree"
   ]
  },
  {
   "cell_type": "markdown",
   "metadata": {},
   "source": [
    "### Confusion Matrix"
   ]
  },
  {
   "cell_type": "code",
   "execution_count": 374,
   "metadata": {},
   "outputs": [
    {
     "name": "stdout",
     "output_type": "stream",
     "text": [
      "Confusion Matrix, without normalization\n",
      "[[2347 1048]\n",
      " [ 647 2852]]\n"
     ]
    },
    {
     "data": {
      "image/png": "[encoded data removed]",
      "text/plain": [
       "<Figure size 432x288 with 2 Axes>"
      ]
     },
     "metadata": {},
     "output_type": "display_data"
    }
   ],
   "source": [
    "plot_confusion_matrix(cm, classes,\n",
    "                          normalize=False,\n",
    "                          title='Confusion matrix',\n",
    "                          cmap=plt.cm.Blues)"
   ]
  },
  {
   "cell_type": "markdown",
   "metadata": {},
   "source": [
    "### Matrix Interpretation, Accuracy, Precision, Recall"
   ]
  },
  {
   "cell_type": "code",
   "execution_count": 375,
   "metadata": {
    "scrolled": false
   },
   "outputs": [
    {
     "name": "stdout",
     "output_type": "stream",
     "text": [
      "There are 2852 True Positives\n",
      "There are 2347 True Negatives\n",
      "There are 1048 False Positives\n",
      "There are 647 False Negatives\n"
     ]
    }
   ],
   "source": [
    "matrix_interpretation(y_test,y_preds)"
   ]
  },
  {
   "cell_type": "code",
   "execution_count": 376,
   "metadata": {},
   "outputs": [
    {
     "name": "stdout",
     "output_type": "stream",
     "text": [
      "Accuracy is :0.7541340295909487\n",
      "Precision is :0.7312820512820513\n",
      "Recall is :0.8150900257216348\n",
      "\n",
      "AUC is :0.75\n"
     ]
    },
    {
     "data": {
      "text/plain": [
       "(0.7541340295909487,\n",
       " 0.7312820512820513,\n",
       " 0.8150900257216348,\n",
       " 0.7532003884131002)"
      ]
     },
     "execution_count": 376,
     "metadata": {},
     "output_type": "execute_result"
    }
   ],
   "source": [
    "evaluate_class(y_test, y_preds)"
   ]
  },
  {
   "cell_type": "markdown",
   "metadata": {},
   "source": [
    "# Logistic Regression"
   ]
  },
  {
   "cell_type": "code",
   "execution_count": 377,
   "metadata": {},
   "outputs": [
    {
     "data": {
      "text/plain": [
       "LogisticRegression(C=1000000000000.0, class_weight=None, dual=False,\n",
       "                   fit_intercept=False, intercept_scaling=1, l1_ratio=None,\n",
       "                   max_iter=100, multi_class='warn', n_jobs=None, penalty='l2',\n",
       "                   random_state=None, solver='liblinear', tol=0.0001, verbose=0,\n",
       "                   warm_start=False)"
      ]
     },
     "execution_count": 377,
     "metadata": {},
     "output_type": "execute_result"
    }
   ],
   "source": [
    "logreg = LogisticRegression(fit_intercept=False, C=1e12, solver='liblinear')\n",
    "model_log = logreg.fit(X_train, y_train)\n",
    "model_log"
   ]
  },
  {
   "cell_type": "code",
   "execution_count": 378,
   "metadata": {},
   "outputs": [],
   "source": [
    "log_y_preds = logreg.predict(X_test)\n",
    "y_hat_train = logreg.predict(X_train)"
   ]
  },
  {
   "cell_type": "code",
   "execution_count": 386,
   "metadata": {},
   "outputs": [
    {
     "name": "stdout",
     "output_type": "stream",
     "text": [
      "Accuracy is :0.6521612996808819\n",
      "Precision is :0.6708035991312442\n",
      "Recall is :0.6178908259502716\n",
      "\n",
      "AUC is :0.65\n",
      "There are 2162 True Positives\n",
      "There are 2334 True Negatives\n",
      "There are 1061 False Positives\n",
      "There are 1337 False Negatives\n",
      "Confusion Matrix, without normalization\n",
      "[[2334 1061]\n",
      " [1337 2162]]\n"
     ]
    },
    {
     "data": {
      "image/png": "[encoded data removed]",
      "text/plain": [
       "<Figure size 432x288 with 2 Axes>"
      ]
     },
     "metadata": {},
     "output_type": "display_data"
    }
   ],
   "source": [
    "log_cm = confusion_matrix(y_test,log_y_preds)\n",
    "log_classes = ['P2 Wins', 'P1 Wins']\n",
    "\n",
    "evaluate_class(y_test, log_y_preds)\n",
    "matrix_interpretation(y_test,log_y_preds)\n",
    "plot_confusion_matrix(log_cm, log_classes,\n",
    "                          normalize=False,\n",
    "                          title='Confusion matrix',\n",
    "                          cmap=plt.cm.Blues)"
   ]
  },
  {
   "cell_type": "code",
   "execution_count": 314,
   "metadata": {},
   "outputs": [
    {
     "name": "stdout",
     "output_type": "stream",
     "text": [
      "1    2397\n",
      "2    2333\n",
      "0    2164\n",
      "Name: PointWinner, dtype: int64\n",
      "1    0.347694\n",
      "2    0.338410\n",
      "0    0.313896\n",
      "Name: PointWinner, dtype: float64\n"
     ]
    }
   ],
   "source": [
    "residuals = np.abs(y_test - y_hat_test)\n",
    "print(pd.Series(residuals).value_counts())\n",
    "print(pd.Series(residuals).value_counts(normalize=True))"
   ]
  },
  {
   "cell_type": "code",
   "execution_count": 315,
   "metadata": {},
   "outputs": [],
   "source": [
    "# First calculate the probability scores of each of the datapoints:\n",
    "y_score = logreg.fit(X_train, y_train).decision_function(X_test)\n",
    "\n",
    "\n",
    "y_score\n",
    "from sklearn.metrics import roc_curve, auc\n",
    "fpr, tpr, thresholds = roc_curve(y_test, y_score)"
   ]
  },
  {
   "cell_type": "code",
   "execution_count": 316,
   "metadata": {},
   "outputs": [
    {
     "name": "stdout",
     "output_type": "stream",
     "text": [
      "AUC: 0.7229607786108465\n"
     ]
    }
   ],
   "source": [
    "print('AUC: {}'.format(auc(fpr, tpr)))"
   ]
  },
  {
   "cell_type": "code",
   "execution_count": 317,
   "metadata": {},
   "outputs": [
    {
     "name": "stdout",
     "output_type": "stream",
     "text": [
      "AUC: 0.7229607786108465\n"
     ]
    },
    {
     "data": {
      "image/png": "[encoded data removed]",
      "text/plain": [
       "<Figure size 720x576 with 1 Axes>"
      ]
     },
     "metadata": {},
     "output_type": "display_data"
    }
   ],
   "source": [
    "import matplotlib.pyplot as plt\n",
    "import seaborn as sns\n",
    "%matplotlib inline\n",
    "\n",
    "# Seaborn's beautiful styling\n",
    "sns.set_style('darkgrid', {'axes.facecolor': '0.9'})\n",
    "\n",
    "print('AUC: {}'.format(auc(fpr, tpr)))\n",
    "plt.figure(figsize=(10, 8))\n",
    "lw = 2\n",
    "plt.plot(fpr, tpr, color='darkorange',\n",
    "         lw=lw, label='ROC curve')\n",
    "plt.plot([0, 1], [0, 1], color='navy', lw=lw, linestyle='--')\n",
    "plt.xlim([0.0, 1.0])\n",
    "plt.ylim([0.0, 1.05])\n",
    "plt.yticks([i/20.0 for i in range(21)])\n",
    "plt.xticks([i/20.0 for i in range(21)])\n",
    "plt.xlabel('False Positive Rate')\n",
    "plt.ylabel('True Positive Rate')\n",
    "plt.title('Receiver operating characteristic (ROC) Curve')\n",
    "plt.legend(loc='lower right')\n",
    "plt.show()"
   ]
  },
  {
   "cell_type": "code",
   "execution_count": 318,
   "metadata": {
    "scrolled": true
   },
   "outputs": [
    {
     "data": {
      "text/plain": [
       "{'PointServer_2': -0.5989539397861534,\n",
       " 'P1BP_1': 0.18051501729132352,\n",
       " 'P2BP_1': 0.6866791097734426,\n",
       " 'gender_W': 0.5268558841926938,\n",
       " 'SetNo': -0.036492853418136066,\n",
       " 'P1GamesWon': -0.027401226082886348,\n",
       " 'P2GamesWon': 0.2605629578161859,\n",
       " 'GameNo': -0.25998079147502945,\n",
       " 'PointNumber': 15.6500027234447,\n",
       " 'P1PointsWon': -6.317394594380406,\n",
       " 'P2PointsWon': -9.457294772519116,\n",
       " 'ServeNumber': 0.18967106766530836,\n",
       " 'prior_avg_speed': 0.2653612001035224,\n",
       " 'last_5_avg_speed': 0.024401145315596378,\n",
       " 'AceRate': -0.10005198979878463,\n",
       " 'AceRate_last_5': 0.046443377932616006,\n",
       " 'DF_last_5': -0.014530496891343253,\n",
       " 'DoubleFault_rate': -0.04848436655735586,\n",
       " 'P1UnfErrRate': 0.0263450759641459,\n",
       " 'P2UnfErrRate': 0.0263450759641459,\n",
       " 'P1UnfErr_last5': 0.008455979268664881,\n",
       " 'P2UnfErr_last5': 0.008455979268664881,\n",
       " 'P1AceRate': 0.04484063885782322,\n",
       " 'P2AceRate': 0.12474992965004081,\n",
       " 'P1AceRate_last5': -0.0018292683374696863,\n",
       " 'P2AceRate_last5': -0.0018292683374696863,\n",
       " 'P1NetRate': 0.016301893305824256,\n",
       " 'P2NetRate': 0.05931858096045805,\n",
       " 'P1NetRate_last5': 0.002460422067195491,\n",
       " 'P2NetRate_last5': 0.005523561297441399,\n",
       " 'P1BreakRate': -0.09016508318838612,\n",
       " 'P2BreakRate': 0.1307331160418378,\n",
       " 'P1BreakRate_last5': -0.021508571811419516,\n",
       " 'P2BreakRate_last5': -0.07147174978333376,\n",
       " 'P1BreakPointWinRate': -0.003960662859740947,\n",
       " 'P2BreakPointWinRate': -0.04381173733270093,\n",
       " 'P1BreakPointWinRate_last5': -0.01772643368888634,\n",
       " 'P2BreakPointWinRate_last5': -0.010153733230494443,\n",
       " 'P1AvgDistanceRun': -0.045071123290307526,\n",
       " 'P2AvgDistanceRun': 0.03983210687559344,\n",
       " 'P1DistRun_last5': 0.009749308207586673,\n",
       " 'P2DistRun_last5': 0.009749308207586673,\n",
       " 'AvgRallyCount': 0.048922837247904506,\n",
       " 'last_5_RallyCount': -0.02472179600518684,\n",
       " 'P1NetPointWinRate': 0.2510982603683164,\n",
       " 'P2NetPointWinRate': -0.32994399058767315,\n",
       " 'P1NetPointWinRate_last5': -0.09691042209469297,\n",
       " 'P2NetPointWinRate_last5': 0.08518708315735922,\n",
       " 'P1_Score': 0.2694456593263807,\n",
       " 'P2_Score': 0.2694456593263807}"
      ]
     },
     "execution_count": 318,
     "metadata": {},
     "output_type": "execute_result"
    }
   ],
   "source": [
    "dictionary = dict(zip(list(X_train.columns), list(logreg.coef_[0])))\n",
    "dictionary"
   ]
  },
  {
   "cell_type": "markdown",
   "metadata": {},
   "source": [
    "# Random Forest"
   ]
  },
  {
   "cell_type": "markdown",
   "metadata": {},
   "source": [
    "## Simple Random Forest"
   ]
  },
  {
   "cell_type": "code",
   "execution_count": 319,
   "metadata": {},
   "outputs": [
    {
     "data": {
      "text/plain": [
       "RandomForestClassifier(bootstrap=True, class_weight=None, criterion='entropy',\n",
       "                       max_depth=7, max_features=3, max_leaf_nodes=None,\n",
       "                       min_impurity_decrease=0.0, min_impurity_split=None,\n",
       "                       min_samples_leaf=1, min_samples_split=2,\n",
       "                       min_weight_fraction_leaf=0.0, n_estimators=100,\n",
       "                       n_jobs=None, oob_score=False, random_state=None,\n",
       "                       verbose=0, warm_start=False)"
      ]
     },
     "execution_count": 319,
     "metadata": {},
     "output_type": "execute_result"
    }
   ],
   "source": [
    "# Instantiate and fit a RandomForestClassifier\n",
    "forest = RandomForestClassifier(n_estimators=100, max_features=3, max_depth= 7, criterion='entropy')\n",
    "forest.fit(X_train, y_train)"
   ]
  },
  {
   "cell_type": "code",
   "execution_count": 320,
   "metadata": {},
   "outputs": [
    {
     "name": "stdout",
     "output_type": "stream",
     "text": [
      "Accuracy is :0.7106179286335944\n",
      "Precision is :0.6705215419501134\n",
      "Recall is :0.8450985995998856\n",
      "\n",
      "AUC is :0.71\n"
     ]
    }
   ],
   "source": [
    "forest_pred = forest.predict(X_test)\n",
    "RForest_Eval = evaluate_class(y_test, forest_pred)"
   ]
  },
  {
   "cell_type": "code",
   "execution_count": 321,
   "metadata": {},
   "outputs": [],
   "source": [
    "rf_cm = confusion_matrix(y_test,forest_pred)\n",
    "rf_classes = ['P1 Wins', 'P2 Wins']"
   ]
  },
  {
   "cell_type": "code",
   "execution_count": 380,
   "metadata": {},
   "outputs": [
    {
     "name": "stdout",
     "output_type": "stream",
     "text": [
      "Confusion Matrix, without normalization\n",
      "[[1942 1453]\n",
      " [ 542 2957]]\n"
     ]
    },
    {
     "data": {
      "image/png": "[encoded data removed]",
      "text/plain": [
       "<Figure size 432x288 with 2 Axes>"
      ]
     },
     "metadata": {},
     "output_type": "display_data"
    }
   ],
   "source": [
    "plot_confusion_matrix(rf_cm, rf_classes,\n",
    "                          normalize=False,\n",
    "                          title='Confusion matrix',\n",
    "                          cmap=plt.cm.Blues)"
   ]
  },
  {
   "cell_type": "code",
   "execution_count": 323,
   "metadata": {},
   "outputs": [
    {
     "name": "stdout",
     "output_type": "stream",
     "text": [
      "There are 1942 True Positives\n",
      "There are 2957 True Negatives\n",
      "There are 542 False Positives\n",
      "There are 1453 False Negatives\n"
     ]
    }
   ],
   "source": [
    "matrix_interpretation(y_test,forest_pred)"
   ]
  },
  {
   "cell_type": "markdown",
   "metadata": {},
   "source": [
    "## Random Forest with GridSearch CV"
   ]
  },
  {
   "cell_type": "code",
   "execution_count": 324,
   "metadata": {},
   "outputs": [],
   "source": [
    "rfc=RandomForestClassifier(random_state=42)"
   ]
  },
  {
   "cell_type": "code",
   "execution_count": 325,
   "metadata": {},
   "outputs": [],
   "source": [
    "param_grid = { \n",
    "    'n_estimators': [100],\n",
    "    'max_features':[3,5,7],\n",
    "    'max_depth' : [5,7],\n",
    "    'criterion' :['gini', 'entropy']\n",
    "}"
   ]
  },
  {
   "cell_type": "code",
   "execution_count": 326,
   "metadata": {},
   "outputs": [
    {
     "data": {
      "text/plain": [
       "GridSearchCV(cv=3, error_score='raise-deprecating',\n",
       "             estimator=RandomForestClassifier(bootstrap=True, class_weight=None,\n",
       "                                              criterion='gini', max_depth=None,\n",
       "                                              max_features='auto',\n",
       "                                              max_leaf_nodes=None,\n",
       "                                              min_impurity_decrease=0.0,\n",
       "                                              min_impurity_split=None,\n",
       "                                              min_samples_leaf=1,\n",
       "                                              min_samples_split=2,\n",
       "                                              min_weight_fraction_leaf=0.0,\n",
       "                                              n_estimators='warn', n_jobs=None,\n",
       "                                              oob_score=False, random_state=42,\n",
       "                                              verbose=0, warm_start=False),\n",
       "             iid='warn', n_jobs=None,\n",
       "             param_grid={'criterion': ['gini', 'entropy'], 'max_depth': [5, 7],\n",
       "                         'max_features': [3, 5, 7], 'n_estimators': [100]},\n",
       "             pre_dispatch='2*n_jobs', refit=True, return_train_score=False,\n",
       "             scoring=None, verbose=0)"
      ]
     },
     "execution_count": 326,
     "metadata": {},
     "output_type": "execute_result"
    }
   ],
   "source": [
    "CV_rfc = GridSearchCV(estimator=rfc, param_grid=param_grid, cv= 3)\n",
    "CV_rfc.fit(X_train, y_train)"
   ]
  },
  {
   "cell_type": "code",
   "execution_count": 327,
   "metadata": {},
   "outputs": [
    {
     "data": {
      "text/plain": [
       "{'criterion': 'gini', 'max_depth': 7, 'max_features': 7, 'n_estimators': 100}"
      ]
     },
     "execution_count": 327,
     "metadata": {},
     "output_type": "execute_result"
    }
   ],
   "source": [
    "CV_rfc.best_params_"
   ]
  },
  {
   "cell_type": "markdown",
   "metadata": {},
   "source": [
    "### Best RandomForest from GridSearch"
   ]
  },
  {
   "cell_type": "code",
   "execution_count": 328,
   "metadata": {},
   "outputs": [
    {
     "data": {
      "text/plain": [
       "RandomForestClassifier(bootstrap=True, class_weight=None, criterion='gini',\n",
       "                       max_depth=7, max_features=7, max_leaf_nodes=None,\n",
       "                       min_impurity_decrease=0.0, min_impurity_split=None,\n",
       "                       min_samples_leaf=1, min_samples_split=2,\n",
       "                       min_weight_fraction_leaf=0.0, n_estimators=100,\n",
       "                       n_jobs=None, oob_score=False, random_state=42, verbose=0,\n",
       "                       warm_start=False)"
      ]
     },
     "execution_count": 328,
     "metadata": {},
     "output_type": "execute_result"
    }
   ],
   "source": [
    "best_rfc = RandomForestClassifier(random_state=42, \n",
    "                                max_features=7, n_estimators= 100,\n",
    "                                max_depth=7, criterion='gini')\n",
    "best_rfc.fit(X_train, y_train)"
   ]
  },
  {
   "cell_type": "code",
   "execution_count": 329,
   "metadata": {},
   "outputs": [],
   "source": [
    "best_rfc_preds = best_rfc.predict(X_test)"
   ]
  },
  {
   "cell_type": "code",
   "execution_count": 382,
   "metadata": {},
   "outputs": [
    {
     "name": "stdout",
     "output_type": "stream",
     "text": [
      "Accuracy is :0.7119234116623151\n",
      "Precision is :0.6616107669301431\n",
      "Recall is :0.8851100314375536\n",
      "\n",
      "AUC is :0.71\n",
      "Confusion Matrix, without normalization\n",
      "[[1811 1584]\n",
      " [ 402 3097]]\n",
      "There are 3097 True Positives\n",
      "There are 1811 True Negatives\n",
      "There are 1584 False Positives\n",
      "There are 402 False Negatives\n"
     ]
    },
    {
     "data": {
      "image/png": "[encoded data removed]",
      "text/plain": [
       "<Figure size 432x288 with 2 Axes>"
      ]
     },
     "metadata": {},
     "output_type": "display_data"
    }
   ],
   "source": [
    "Best_RForest_Eval = evaluate_class(y_test, best_rfc_preds)\n",
    "\n",
    "best_rf_cm = confusion_matrix(y_test,best_rfc_preds)\n",
    "rf_classes = ['P2 Wins', 'P1 Wins']\n",
    "\n",
    "plot_confusion_matrix(best_rf_cm, rf_classes,\n",
    "                          normalize=False,\n",
    "                          title='Confusion matrix',\n",
    "                          cmap=plt.cm.Blues)\n",
    "\n",
    "matrix_interpretation(y_test,best_rfc_preds)"
   ]
  },
  {
   "cell_type": "markdown",
   "metadata": {},
   "source": [
    "# AdaBoost and GradientBoost"
   ]
  },
  {
   "cell_type": "code",
   "execution_count": 331,
   "metadata": {},
   "outputs": [],
   "source": [
    "# Instantiate an AdaBoostClassifier\n",
    "AdaBoost_class = AdaBoostClassifier(random_state=42)\n",
    "\n",
    "AdaBoost_class.fit(X_train, y_train)\n",
    "\n",
    "# AdaBoost model predictions\n",
    "adaboost_test_preds = AdaBoost_class.predict(X_test)\n"
   ]
  },
  {
   "cell_type": "code",
   "execution_count": 384,
   "metadata": {},
   "outputs": [
    {
     "name": "stdout",
     "output_type": "stream",
     "text": [
      "Accuracy is :0.6489701189440092\n",
      "Precision is :0.6566947429567238\n",
      "Recall is :0.6461846241783367\n",
      "\n",
      "AUC is :0.65\n",
      "Confusion Matrix, without normalization\n",
      "[[2213 1182]\n",
      " [1238 2261]]\n",
      "There are 2261 True Positives\n",
      "There are 2213 True Negatives\n",
      "There are 1182 False Positives\n",
      "There are 1238 False Negatives\n"
     ]
    },
    {
     "data": {
      "image/png": "[encoded data removed]",
      "text/plain": [
       "<Figure size 432x288 with 2 Axes>"
      ]
     },
     "metadata": {},
     "output_type": "display_data"
    }
   ],
   "source": [
    "#evaluating AdaBoost\n",
    "adaboost_eva=evaluate_class(y_test, adaboost_test_preds)\n",
    "\n",
    "ada_boost_cm = confusion_matrix(y_test,adaboost_test_preds)\n",
    "ada_classes = ['P2 Wins', 'P1 Wins']\n",
    "\n",
    "plot_confusion_matrix(ada_boost_cm, ada_classes,\n",
    "                          normalize=False,\n",
    "                          title='Confusion matrix',\n",
    "                          cmap=plt.cm.Blues)\n",
    "\n",
    "matrix_interpretation(y_test, adaboost_test_preds)"
   ]
  },
  {
   "cell_type": "code",
   "execution_count": 334,
   "metadata": {},
   "outputs": [],
   "source": [
    "# Instantiate an GradientBoostingClassifier\n",
    "gboost_class = GradientBoostingClassifier(random_state=42)\n",
    "\n",
    "gboost_class.fit(X_train, y_train)\n",
    "\n",
    "\n",
    "# GradientBoosting model predictions\n",
    "g_boost_test_preds = gboost_class.predict(X_test)\n",
    "prob_g_boost_preds = gboost_class.predict_proba(X_test)\n"
   ]
  },
  {
   "cell_type": "code",
   "execution_count": 385,
   "metadata": {},
   "outputs": [
    {
     "name": "stdout",
     "output_type": "stream",
     "text": [
      "Accuracy is :0.7523933855526544\n",
      "Precision is :0.7080817464003716\n",
      "Recall is :0.8713918262360675\n",
      "\n",
      "AUC is :0.75\n",
      "Confusion Matrix, without normalization\n",
      "[[2138 1257]\n",
      " [ 450 3049]]\n",
      "There are 3049 True Positives\n",
      "There are 2138 True Negatives\n",
      "There are 1257 False Positives\n",
      "There are 450 False Negatives\n"
     ]
    },
    {
     "data": {
      "image/png": "[encoded data removed]",
      "text/plain": [
       "<Figure size 432x288 with 2 Axes>"
      ]
     },
     "metadata": {},
     "output_type": "display_data"
    }
   ],
   "source": [
    "#evaluating GradientBoosting\n",
    "GradientBoosting_eva=evaluate_class(y_test, g_boost_test_preds)\n",
    "\n",
    "g_boost_cm = confusion_matrix(y_test,g_boost_test_preds)\n",
    "g_classes = ['P2 Wins', 'P1 Wins']\n",
    "\n",
    "plot_confusion_matrix(g_boost_cm, g_classes,\n",
    "                          normalize=False,\n",
    "                          title='Confusion matrix',\n",
    "                          cmap=plt.cm.Blues)\n",
    "\n",
    "matrix_interpretation(y_test, g_boost_test_preds)"
   ]
  },
  {
   "cell_type": "code",
   "execution_count": 336,
   "metadata": {},
   "outputs": [],
   "source": [
    "# g_boost_test_preds\n",
    "# prob_g_boost_preds = gboost_class.predict_proba(X_test)\n",
    "def plot_ROC_curve(y_test, y_pred_prob):\n",
    "    fpr, tpr, thresholds = sklearn.metrics.roc_curve(y_test, y_pred_prob)\n",
    "    plt.plot(fpr, tpr);\n",
    "    plt.xlim([0.0, 1.0]);\n",
    "    plt.ylim([0.0, 1.0]);\n",
    "    plt.title('ROC Curve for Anaylst Rating Classifier');\n",
    "    plt.xlabel('False Positive Rate (1 - Specificity)');\n",
    "    plt.ylabel('True Positive Rate (Sensitivity)');\n",
    "    plt.grid(True);"
   ]
  },
  {
   "cell_type": "code",
   "execution_count": 392,
   "metadata": {},
   "outputs": [],
   "source": [
    "preds = [i[1] for i in prob_g_boost_preds]"
   ]
  },
  {
   "cell_type": "code",
   "execution_count": 395,
   "metadata": {},
   "outputs": [
    {
     "name": "stdout",
     "output_type": "stream",
     "text": [
      "AUC: 0.8389235131771291\n"
     ]
    },
    {
     "data": {
      "image/png": "[encoded data removed]",
      "text/plain": [
       "<Figure size 720x576 with 1 Axes>"
      ]
     },
     "metadata": {},
     "output_type": "display_data"
    }
   ],
   "source": [
    "fpr, tpr, thresholds = roc_curve(y_test, preds)\n",
    "import matplotlib.pyplot as plt\n",
    "import seaborn as sns\n",
    "%matplotlib inline\n",
    "\n",
    "# Seaborn's beautiful styling\n",
    "sns.set_style('darkgrid', {'axes.facecolor': '0.9'})\n",
    "\n",
    "print('AUC: {}'.format(auc(fpr, tpr)))\n",
    "plt.figure(figsize=(10, 8))\n",
    "lw = 2\n",
    "plt.plot(fpr, tpr, color='darkorange',\n",
    "         lw=lw, label='ROC curve')\n",
    "plt.plot([0, 1], [0, 1], color='navy', lw=lw, linestyle='--')\n",
    "plt.xlim([0.0, 1.0])\n",
    "plt.ylim([0.0, 1.05])\n",
    "plt.yticks([i/20.0 for i in range(21)])\n",
    "plt.xticks([i/20.0 for i in range(21)])\n",
    "plt.xlabel('False Positive Rate')\n",
    "plt.ylabel('True Positive Rate')\n",
    "plt.title('Receiver operating characteristic (ROC) Curve')\n",
    "plt.legend(loc='lower right')\n",
    "plt.show()"
   ]
  },
  {
   "cell_type": "code",
   "execution_count": null,
   "metadata": {},
   "outputs": [],
   "source": [
    "y_scores_gb = gboost_class.decision_function(X_validation_sub)\n",
    "fpr_gb, tpr_gb, _ = roc_curve(y_validation_sub, y_scores_gb)\n",
    "roc_auc_gb = auc(fpr_gb, tpr_gb)\n"
   ]
  }
 ],
 "metadata": {
  "kernelspec": {
   "display_name": "Python 3",
   "language": "python",
   "name": "python3"
  },
  "language_info": {
   "codemirror_mode": {
    "name": "ipython",
    "version": 3
   },
   "file_extension": ".py",
   "mimetype": "text/x-python",
   "name": "python",
   "nbconvert_exporter": "python",
   "pygments_lexer": "ipython3",
   "version": "3.7.3"
  }
 },
 "nbformat": 4,
 "nbformat_minor": 2
}
