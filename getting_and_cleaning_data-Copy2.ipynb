{
 "cells": [
  {
   "cell_type": "code",
   "execution_count": 1,
   "metadata": {},
   "outputs": [],
   "source": [
    "# Import libraries\n",
    "import numpy as np\n",
    "import pandas as pd\n",
    "import matplotlib.pyplot as plt\n",
    "%matplotlib inline\n",
    "import sklearn\n",
    "import seaborn as sns\n",
    "import warnings"
   ]
  },
  {
   "cell_type": "code",
   "execution_count": 2,
   "metadata": {},
   "outputs": [],
   "source": [
    "#US Open point-by-point\n",
    "pts = pd.read_csv('./data/2019-usopen-points.csv')"
   ]
  },
  {
   "cell_type": "code",
   "execution_count": 3,
   "metadata": {},
   "outputs": [
    {
     "data": {
      "text/html": [
       "<div>\n",
       "<style scoped>\n",
       "    .dataframe tbody tr th:only-of-type {\n",
       "        vertical-align: middle;\n",
       "    }\n",
       "\n",
       "    .dataframe tbody tr th {\n",
       "        vertical-align: top;\n",
       "    }\n",
       "\n",
       "    .dataframe thead th {\n",
       "        text-align: right;\n",
       "    }\n",
       "</style>\n",
       "<table border=\"1\" class=\"dataframe\">\n",
       "  <thead>\n",
       "    <tr style=\"text-align: right;\">\n",
       "      <th></th>\n",
       "      <th>match_id</th>\n",
       "      <th>ElapsedTime</th>\n",
       "      <th>SetNo</th>\n",
       "      <th>P1GamesWon</th>\n",
       "      <th>P2GamesWon</th>\n",
       "      <th>SetWinner</th>\n",
       "      <th>GameNo</th>\n",
       "      <th>GameWinner</th>\n",
       "      <th>PointNumber</th>\n",
       "      <th>PointWinner</th>\n",
       "      <th>...</th>\n",
       "      <th>P2TurningPoint</th>\n",
       "      <th>ServeNumber</th>\n",
       "      <th>WinnerType</th>\n",
       "      <th>WinnerShotType</th>\n",
       "      <th>P1DistanceRun</th>\n",
       "      <th>P2DistanceRun</th>\n",
       "      <th>RallyCount</th>\n",
       "      <th>ServeWidth</th>\n",
       "      <th>ServeDepth</th>\n",
       "      <th>ReturnDepth</th>\n",
       "    </tr>\n",
       "  </thead>\n",
       "  <tbody>\n",
       "    <tr>\n",
       "      <th>0</th>\n",
       "      <td>2019-usopen-1101</td>\n",
       "      <td>0:00:00</td>\n",
       "      <td>1</td>\n",
       "      <td>0</td>\n",
       "      <td>0</td>\n",
       "      <td>0</td>\n",
       "      <td>1</td>\n",
       "      <td>0</td>\n",
       "      <td>0X</td>\n",
       "      <td>0</td>\n",
       "      <td>...</td>\n",
       "      <td>NaN</td>\n",
       "      <td>0</td>\n",
       "      <td>0</td>\n",
       "      <td>0</td>\n",
       "      <td>0.000</td>\n",
       "      <td>0.000</td>\n",
       "      <td>0</td>\n",
       "      <td>NaN</td>\n",
       "      <td>NaN</td>\n",
       "      <td>NaN</td>\n",
       "    </tr>\n",
       "    <tr>\n",
       "      <th>1</th>\n",
       "      <td>2019-usopen-1101</td>\n",
       "      <td>0:00:00</td>\n",
       "      <td>1</td>\n",
       "      <td>0</td>\n",
       "      <td>0</td>\n",
       "      <td>0</td>\n",
       "      <td>1</td>\n",
       "      <td>0</td>\n",
       "      <td>0Y</td>\n",
       "      <td>0</td>\n",
       "      <td>...</td>\n",
       "      <td>NaN</td>\n",
       "      <td>0</td>\n",
       "      <td>0</td>\n",
       "      <td>0</td>\n",
       "      <td>0.000</td>\n",
       "      <td>0.000</td>\n",
       "      <td>0</td>\n",
       "      <td>NaN</td>\n",
       "      <td>NaN</td>\n",
       "      <td>NaN</td>\n",
       "    </tr>\n",
       "    <tr>\n",
       "      <th>2</th>\n",
       "      <td>2019-usopen-1101</td>\n",
       "      <td>0:00:00</td>\n",
       "      <td>1</td>\n",
       "      <td>0</td>\n",
       "      <td>0</td>\n",
       "      <td>0</td>\n",
       "      <td>1</td>\n",
       "      <td>0</td>\n",
       "      <td>1</td>\n",
       "      <td>1</td>\n",
       "      <td>...</td>\n",
       "      <td>NaN</td>\n",
       "      <td>2</td>\n",
       "      <td>0</td>\n",
       "      <td>0</td>\n",
       "      <td>29.095</td>\n",
       "      <td>33.480</td>\n",
       "      <td>9</td>\n",
       "      <td>BC</td>\n",
       "      <td>NCTL</td>\n",
       "      <td>D</td>\n",
       "    </tr>\n",
       "    <tr>\n",
       "      <th>3</th>\n",
       "      <td>2019-usopen-1101</td>\n",
       "      <td>0:00:55</td>\n",
       "      <td>1</td>\n",
       "      <td>0</td>\n",
       "      <td>0</td>\n",
       "      <td>0</td>\n",
       "      <td>1</td>\n",
       "      <td>0</td>\n",
       "      <td>2</td>\n",
       "      <td>2</td>\n",
       "      <td>...</td>\n",
       "      <td>NaN</td>\n",
       "      <td>0</td>\n",
       "      <td>0</td>\n",
       "      <td>0</td>\n",
       "      <td>0.577</td>\n",
       "      <td>0.510</td>\n",
       "      <td>0</td>\n",
       "      <td>NaN</td>\n",
       "      <td>NaN</td>\n",
       "      <td>NaN</td>\n",
       "    </tr>\n",
       "    <tr>\n",
       "      <th>4</th>\n",
       "      <td>2019-usopen-1101</td>\n",
       "      <td>0:01:22</td>\n",
       "      <td>1</td>\n",
       "      <td>0</td>\n",
       "      <td>0</td>\n",
       "      <td>0</td>\n",
       "      <td>1</td>\n",
       "      <td>0</td>\n",
       "      <td>3</td>\n",
       "      <td>1</td>\n",
       "      <td>...</td>\n",
       "      <td>NaN</td>\n",
       "      <td>1</td>\n",
       "      <td>0</td>\n",
       "      <td>0</td>\n",
       "      <td>14.642</td>\n",
       "      <td>8.791</td>\n",
       "      <td>5</td>\n",
       "      <td>C</td>\n",
       "      <td>NCTL</td>\n",
       "      <td>ND</td>\n",
       "    </tr>\n",
       "  </tbody>\n",
       "</table>\n",
       "<p>5 rows × 65 columns</p>\n",
       "</div>"
      ],
      "text/plain": [
       "           match_id ElapsedTime  SetNo  P1GamesWon  P2GamesWon  SetWinner  \\\n",
       "0  2019-usopen-1101     0:00:00      1           0           0          0   \n",
       "1  2019-usopen-1101     0:00:00      1           0           0          0   \n",
       "2  2019-usopen-1101     0:00:00      1           0           0          0   \n",
       "3  2019-usopen-1101     0:00:55      1           0           0          0   \n",
       "4  2019-usopen-1101     0:01:22      1           0           0          0   \n",
       "\n",
       "   GameNo  GameWinner PointNumber  PointWinner  ...  P2TurningPoint  \\\n",
       "0       1           0          0X            0  ...             NaN   \n",
       "1       1           0          0Y            0  ...             NaN   \n",
       "2       1           0           1            1  ...             NaN   \n",
       "3       1           0           2            2  ...             NaN   \n",
       "4       1           0           3            1  ...             NaN   \n",
       "\n",
       "   ServeNumber  WinnerType WinnerShotType P1DistanceRun  P2DistanceRun  \\\n",
       "0            0           0              0         0.000          0.000   \n",
       "1            0           0              0         0.000          0.000   \n",
       "2            2           0              0        29.095         33.480   \n",
       "3            0           0              0         0.577          0.510   \n",
       "4            1           0              0        14.642          8.791   \n",
       "\n",
       "   RallyCount  ServeWidth  ServeDepth  ReturnDepth  \n",
       "0           0         NaN         NaN          NaN  \n",
       "1           0         NaN         NaN          NaN  \n",
       "2           9          BC        NCTL            D  \n",
       "3           0         NaN         NaN          NaN  \n",
       "4           5           C        NCTL           ND  \n",
       "\n",
       "[5 rows x 65 columns]"
      ]
     },
     "execution_count": 3,
     "metadata": {},
     "output_type": "execute_result"
    }
   ],
   "source": [
    "pts.head()"
   ]
  },
  {
   "cell_type": "code",
   "execution_count": 4,
   "metadata": {
    "scrolled": true
   },
   "outputs": [
    {
     "name": "stdout",
     "output_type": "stream",
     "text": [
      "<class 'pandas.core.frame.DataFrame'>\n",
      "RangeIndex: 47893 entries, 0 to 47892\n",
      "Data columns (total 65 columns):\n",
      "match_id              47893 non-null object\n",
      "ElapsedTime           47893 non-null object\n",
      "SetNo                 47893 non-null int64\n",
      "P1GamesWon            47893 non-null int64\n",
      "P2GamesWon            47893 non-null int64\n",
      "SetWinner             47893 non-null int64\n",
      "GameNo                47893 non-null int64\n",
      "GameWinner            47893 non-null int64\n",
      "PointNumber           47893 non-null object\n",
      "PointWinner           47893 non-null int64\n",
      "PointServer           47893 non-null int64\n",
      "Speed_KMH             47893 non-null int64\n",
      "Rally                 0 non-null float64\n",
      "P1Score               47893 non-null object\n",
      "P2Score               47893 non-null object\n",
      "P1Momentum            47893 non-null int64\n",
      "P2Momentum            47893 non-null int64\n",
      "P1PointsWon           47893 non-null int64\n",
      "P2PointsWon           47893 non-null int64\n",
      "P1Ace                 47893 non-null int64\n",
      "P2Ace                 47893 non-null int64\n",
      "P1Winner              47893 non-null int64\n",
      "P2Winner              47893 non-null int64\n",
      "P1DoubleFault         47893 non-null int64\n",
      "P2DoubleFault         47893 non-null int64\n",
      "P1UnfErr              47893 non-null int64\n",
      "P2UnfErr              47893 non-null int64\n",
      "P1NetPoint            47893 non-null int64\n",
      "P2NetPoint            47893 non-null int64\n",
      "P1NetPointWon         47893 non-null int64\n",
      "P2NetPointWon         47893 non-null int64\n",
      "P1BreakPoint          47893 non-null int64\n",
      "P2BreakPoint          47893 non-null int64\n",
      "P1BreakPointWon       47893 non-null int64\n",
      "P2BreakPointWon       47893 non-null int64\n",
      "P1FirstSrvIn          0 non-null float64\n",
      "P2FirstSrvIn          0 non-null float64\n",
      "P1FirstSrvWon         0 non-null float64\n",
      "P2FirstSrvWon         0 non-null float64\n",
      "P1SecondSrvIn         0 non-null float64\n",
      "P2SecondSrvIn         0 non-null float64\n",
      "P1SecondSrvWon        0 non-null float64\n",
      "P2SecondSrvWon        0 non-null float64\n",
      "P1ForcedError         0 non-null float64\n",
      "P2ForcedError         0 non-null float64\n",
      "History               47391 non-null float64\n",
      "Speed_MPH             47893 non-null int64\n",
      "P1BreakPointMissed    47893 non-null int64\n",
      "P2BreakPointMissed    47893 non-null int64\n",
      "ServeIndicator        47893 non-null int64\n",
      "Serve_Direction       0 non-null float64\n",
      "Winner_FH             0 non-null float64\n",
      "Winner_BH             0 non-null float64\n",
      "ServingTo             0 non-null float64\n",
      "P1TurningPoint        0 non-null float64\n",
      "P2TurningPoint        0 non-null float64\n",
      "ServeNumber           47893 non-null int64\n",
      "WinnerType            47893 non-null object\n",
      "WinnerShotType        47893 non-null object\n",
      "P1DistanceRun         47893 non-null float64\n",
      "P2DistanceRun         47893 non-null float64\n",
      "RallyCount            47893 non-null int64\n",
      "ServeWidth            25970 non-null object\n",
      "ServeDepth            25970 non-null object\n",
      "ReturnDepth           21183 non-null object\n",
      "dtypes: float64(20), int64(35), object(10)\n",
      "memory usage: 23.8+ MB\n"
     ]
    }
   ],
   "source": [
    "pts.info()"
   ]
  },
  {
   "cell_type": "code",
   "execution_count": 5,
   "metadata": {},
   "outputs": [],
   "source": [
    "#columns where all values are null\n",
    "cols_to_drop = ['Serve_Direction','Winner_FH','Winner_BH','ServingTo',\n",
    "                'P1TurningPoint','P2TurningPoint','P1FirstSrvIn',\n",
    "                'P2FirstSrvIn','P1FirstSrvWon','P2FirstSrvWon',\n",
    "               'P1SecondSrvIn','P2SecondSrvIn','P1SecondSrvWon',\n",
    "               'P2SecondSrvWon','P1ForcedError','P2ForcedError',\n",
    "               'Rally',]"
   ]
  },
  {
   "cell_type": "code",
   "execution_count": 6,
   "metadata": {},
   "outputs": [],
   "source": [
    "#drop columns where all values are null\n",
    "for col in cols_to_drop:\n",
    "    pts = pts.drop(col, axis=1)"
   ]
  },
  {
   "cell_type": "code",
   "execution_count": 7,
   "metadata": {},
   "outputs": [],
   "source": [
    "#drop rows where no points are played\n",
    "pts = pts[pts['PointWinner'] != 0]"
   ]
  },
  {
   "cell_type": "code",
   "execution_count": 8,
   "metadata": {},
   "outputs": [],
   "source": [
    "#create unique id based on point number AND match id\n",
    "pts['match_id_simplified'] = [str(i.split('-')[2]) for i in np.array(pts.match_id)]\n",
    "type(pts.match_id_simplified)\n",
    "pts['unique_id'] = np.array(pts.match_id_simplified.values)+\"-\"+np.array(pts.PointNumber.values)"
   ]
  },
  {
   "cell_type": "code",
   "execution_count": 9,
   "metadata": {},
   "outputs": [],
   "source": [
    "pts['ServeNumber']=[2 if value==0 else value for value in pts['ServeNumber']]"
   ]
  },
  {
   "cell_type": "code",
   "execution_count": 10,
   "metadata": {},
   "outputs": [],
   "source": [
    "#elminate matches where there is no information other than who wins each point\n",
    "matches_to_eliminate = []\n",
    "for group in set(pts['match_id_simplified']):\n",
    "    zeroes = pts[pts['Speed_MPH']==0].groupby('match_id_simplified').groups[group]\n",
    "    if len(zeroes) > 55:\n",
    "        matches_to_eliminate.append(group)\n"
   ]
  },
  {
   "cell_type": "code",
   "execution_count": 11,
   "metadata": {},
   "outputs": [],
   "source": [
    "for group in matches_to_eliminate:\n",
    "    pts = pts[pts['match_id_simplified'] != group]"
   ]
  },
  {
   "cell_type": "code",
   "execution_count": 12,
   "metadata": {},
   "outputs": [],
   "source": [
    "matches = pd.read_csv('./data/2019-usopen-matches.csv')"
   ]
  },
  {
   "cell_type": "code",
   "execution_count": 13,
   "metadata": {},
   "outputs": [],
   "source": [
    "#adding gender feature\n",
    "pts['gender'] = ['W' if int(m_id)>2100 else 'M' for m_id in pts['match_id_simplified']]"
   ]
  },
  {
   "cell_type": "code",
   "execution_count": 14,
   "metadata": {},
   "outputs": [],
   "source": [
    "pts_1 = pts.set_index('unique_id')"
   ]
  },
  {
   "cell_type": "code",
   "execution_count": 15,
   "metadata": {},
   "outputs": [
    {
     "data": {
      "text/html": [
       "<div>\n",
       "<style scoped>\n",
       "    .dataframe tbody tr th:only-of-type {\n",
       "        vertical-align: middle;\n",
       "    }\n",
       "\n",
       "    .dataframe tbody tr th {\n",
       "        vertical-align: top;\n",
       "    }\n",
       "\n",
       "    .dataframe thead th {\n",
       "        text-align: right;\n",
       "    }\n",
       "</style>\n",
       "<table border=\"1\" class=\"dataframe\">\n",
       "  <thead>\n",
       "    <tr style=\"text-align: right;\">\n",
       "      <th></th>\n",
       "      <th>match_id</th>\n",
       "      <th>ElapsedTime</th>\n",
       "      <th>SetNo</th>\n",
       "      <th>P1GamesWon</th>\n",
       "      <th>P2GamesWon</th>\n",
       "      <th>SetWinner</th>\n",
       "      <th>GameNo</th>\n",
       "      <th>GameWinner</th>\n",
       "      <th>PointNumber</th>\n",
       "      <th>PointWinner</th>\n",
       "      <th>...</th>\n",
       "      <th>WinnerType</th>\n",
       "      <th>WinnerShotType</th>\n",
       "      <th>P1DistanceRun</th>\n",
       "      <th>P2DistanceRun</th>\n",
       "      <th>RallyCount</th>\n",
       "      <th>ServeWidth</th>\n",
       "      <th>ServeDepth</th>\n",
       "      <th>ReturnDepth</th>\n",
       "      <th>match_id_simplified</th>\n",
       "      <th>gender</th>\n",
       "    </tr>\n",
       "    <tr>\n",
       "      <th>unique_id</th>\n",
       "      <th></th>\n",
       "      <th></th>\n",
       "      <th></th>\n",
       "      <th></th>\n",
       "      <th></th>\n",
       "      <th></th>\n",
       "      <th></th>\n",
       "      <th></th>\n",
       "      <th></th>\n",
       "      <th></th>\n",
       "      <th></th>\n",
       "      <th></th>\n",
       "      <th></th>\n",
       "      <th></th>\n",
       "      <th></th>\n",
       "      <th></th>\n",
       "      <th></th>\n",
       "      <th></th>\n",
       "      <th></th>\n",
       "      <th></th>\n",
       "      <th></th>\n",
       "    </tr>\n",
       "  </thead>\n",
       "  <tbody>\n",
       "    <tr>\n",
       "      <th>1101-1</th>\n",
       "      <td>2019-usopen-1101</td>\n",
       "      <td>0:00:00</td>\n",
       "      <td>1</td>\n",
       "      <td>0</td>\n",
       "      <td>0</td>\n",
       "      <td>0</td>\n",
       "      <td>1</td>\n",
       "      <td>0</td>\n",
       "      <td>1</td>\n",
       "      <td>1</td>\n",
       "      <td>...</td>\n",
       "      <td>0</td>\n",
       "      <td>0</td>\n",
       "      <td>29.095</td>\n",
       "      <td>33.480</td>\n",
       "      <td>9</td>\n",
       "      <td>BC</td>\n",
       "      <td>NCTL</td>\n",
       "      <td>D</td>\n",
       "      <td>1101</td>\n",
       "      <td>M</td>\n",
       "    </tr>\n",
       "    <tr>\n",
       "      <th>1101-2</th>\n",
       "      <td>2019-usopen-1101</td>\n",
       "      <td>0:00:55</td>\n",
       "      <td>1</td>\n",
       "      <td>0</td>\n",
       "      <td>0</td>\n",
       "      <td>0</td>\n",
       "      <td>1</td>\n",
       "      <td>0</td>\n",
       "      <td>2</td>\n",
       "      <td>2</td>\n",
       "      <td>...</td>\n",
       "      <td>0</td>\n",
       "      <td>0</td>\n",
       "      <td>0.577</td>\n",
       "      <td>0.510</td>\n",
       "      <td>0</td>\n",
       "      <td>NaN</td>\n",
       "      <td>NaN</td>\n",
       "      <td>NaN</td>\n",
       "      <td>1101</td>\n",
       "      <td>M</td>\n",
       "    </tr>\n",
       "    <tr>\n",
       "      <th>1101-3</th>\n",
       "      <td>2019-usopen-1101</td>\n",
       "      <td>0:01:22</td>\n",
       "      <td>1</td>\n",
       "      <td>0</td>\n",
       "      <td>0</td>\n",
       "      <td>0</td>\n",
       "      <td>1</td>\n",
       "      <td>0</td>\n",
       "      <td>3</td>\n",
       "      <td>1</td>\n",
       "      <td>...</td>\n",
       "      <td>0</td>\n",
       "      <td>0</td>\n",
       "      <td>14.642</td>\n",
       "      <td>8.791</td>\n",
       "      <td>5</td>\n",
       "      <td>C</td>\n",
       "      <td>NCTL</td>\n",
       "      <td>ND</td>\n",
       "      <td>1101</td>\n",
       "      <td>M</td>\n",
       "    </tr>\n",
       "    <tr>\n",
       "      <th>1101-4</th>\n",
       "      <td>2019-usopen-1101</td>\n",
       "      <td>0:01:46</td>\n",
       "      <td>1</td>\n",
       "      <td>0</td>\n",
       "      <td>0</td>\n",
       "      <td>0</td>\n",
       "      <td>1</td>\n",
       "      <td>0</td>\n",
       "      <td>4</td>\n",
       "      <td>2</td>\n",
       "      <td>...</td>\n",
       "      <td>0</td>\n",
       "      <td>0</td>\n",
       "      <td>8.739</td>\n",
       "      <td>13.514</td>\n",
       "      <td>6</td>\n",
       "      <td>C</td>\n",
       "      <td>NCTL</td>\n",
       "      <td>ND</td>\n",
       "      <td>1101</td>\n",
       "      <td>M</td>\n",
       "    </tr>\n",
       "    <tr>\n",
       "      <th>1101-5</th>\n",
       "      <td>2019-usopen-1101</td>\n",
       "      <td>0:02:14</td>\n",
       "      <td>1</td>\n",
       "      <td>0</td>\n",
       "      <td>0</td>\n",
       "      <td>0</td>\n",
       "      <td>1</td>\n",
       "      <td>0</td>\n",
       "      <td>5</td>\n",
       "      <td>1</td>\n",
       "      <td>...</td>\n",
       "      <td>0</td>\n",
       "      <td>F</td>\n",
       "      <td>5.314</td>\n",
       "      <td>9.403</td>\n",
       "      <td>3</td>\n",
       "      <td>W</td>\n",
       "      <td>CTL</td>\n",
       "      <td>ND</td>\n",
       "      <td>1101</td>\n",
       "      <td>M</td>\n",
       "    </tr>\n",
       "  </tbody>\n",
       "</table>\n",
       "<p>5 rows × 50 columns</p>\n",
       "</div>"
      ],
      "text/plain": [
       "                   match_id ElapsedTime  SetNo  P1GamesWon  P2GamesWon  \\\n",
       "unique_id                                                                \n",
       "1101-1     2019-usopen-1101     0:00:00      1           0           0   \n",
       "1101-2     2019-usopen-1101     0:00:55      1           0           0   \n",
       "1101-3     2019-usopen-1101     0:01:22      1           0           0   \n",
       "1101-4     2019-usopen-1101     0:01:46      1           0           0   \n",
       "1101-5     2019-usopen-1101     0:02:14      1           0           0   \n",
       "\n",
       "           SetWinner  GameNo  GameWinner PointNumber  PointWinner  ...  \\\n",
       "unique_id                                                          ...   \n",
       "1101-1             0       1           0           1            1  ...   \n",
       "1101-2             0       1           0           2            2  ...   \n",
       "1101-3             0       1           0           3            1  ...   \n",
       "1101-4             0       1           0           4            2  ...   \n",
       "1101-5             0       1           0           5            1  ...   \n",
       "\n",
       "           WinnerType  WinnerShotType P1DistanceRun P2DistanceRun  RallyCount  \\\n",
       "unique_id                                                                       \n",
       "1101-1              0               0        29.095        33.480           9   \n",
       "1101-2              0               0         0.577         0.510           0   \n",
       "1101-3              0               0        14.642         8.791           5   \n",
       "1101-4              0               0         8.739        13.514           6   \n",
       "1101-5              0               F         5.314         9.403           3   \n",
       "\n",
       "           ServeWidth  ServeDepth  ReturnDepth  match_id_simplified  gender  \n",
       "unique_id                                                                    \n",
       "1101-1             BC        NCTL            D                 1101       M  \n",
       "1101-2            NaN         NaN          NaN                 1101       M  \n",
       "1101-3              C        NCTL           ND                 1101       M  \n",
       "1101-4              C        NCTL           ND                 1101       M  \n",
       "1101-5              W         CTL           ND                 1101       M  \n",
       "\n",
       "[5 rows x 50 columns]"
      ]
     },
     "execution_count": 15,
     "metadata": {},
     "output_type": "execute_result"
    }
   ],
   "source": [
    "pts_1.head()"
   ]
  },
  {
   "cell_type": "code",
   "execution_count": 16,
   "metadata": {},
   "outputs": [
    {
     "name": "stdout",
     "output_type": "stream",
     "text": [
      "<class 'pandas.core.frame.DataFrame'>\n",
      "Index: 28677 entries, 1101-1 to 2701-145\n",
      "Data columns (total 50 columns):\n",
      "match_id               28677 non-null object\n",
      "ElapsedTime            28677 non-null object\n",
      "SetNo                  28677 non-null int64\n",
      "P1GamesWon             28677 non-null int64\n",
      "P2GamesWon             28677 non-null int64\n",
      "SetWinner              28677 non-null int64\n",
      "GameNo                 28677 non-null int64\n",
      "GameWinner             28677 non-null int64\n",
      "PointNumber            28677 non-null object\n",
      "PointWinner            28677 non-null int64\n",
      "PointServer            28677 non-null int64\n",
      "Speed_KMH              28677 non-null int64\n",
      "P1Score                28677 non-null object\n",
      "P2Score                28677 non-null object\n",
      "P1Momentum             28677 non-null int64\n",
      "P2Momentum             28677 non-null int64\n",
      "P1PointsWon            28677 non-null int64\n",
      "P2PointsWon            28677 non-null int64\n",
      "P1Ace                  28677 non-null int64\n",
      "P2Ace                  28677 non-null int64\n",
      "P1Winner               28677 non-null int64\n",
      "P2Winner               28677 non-null int64\n",
      "P1DoubleFault          28677 non-null int64\n",
      "P2DoubleFault          28677 non-null int64\n",
      "P1UnfErr               28677 non-null int64\n",
      "P2UnfErr               28677 non-null int64\n",
      "P1NetPoint             28677 non-null int64\n",
      "P2NetPoint             28677 non-null int64\n",
      "P1NetPointWon          28677 non-null int64\n",
      "P2NetPointWon          28677 non-null int64\n",
      "P1BreakPoint           28677 non-null int64\n",
      "P2BreakPoint           28677 non-null int64\n",
      "P1BreakPointWon        28677 non-null int64\n",
      "P2BreakPointWon        28677 non-null int64\n",
      "History                28677 non-null float64\n",
      "Speed_MPH              28677 non-null int64\n",
      "P1BreakPointMissed     28677 non-null int64\n",
      "P2BreakPointMissed     28677 non-null int64\n",
      "ServeIndicator         28677 non-null int64\n",
      "ServeNumber            28677 non-null int64\n",
      "WinnerType             28677 non-null object\n",
      "WinnerShotType         28677 non-null object\n",
      "P1DistanceRun          28677 non-null float64\n",
      "P2DistanceRun          28677 non-null float64\n",
      "RallyCount             28677 non-null int64\n",
      "ServeWidth             25970 non-null object\n",
      "ServeDepth             25970 non-null object\n",
      "ReturnDepth            21183 non-null object\n",
      "match_id_simplified    28677 non-null object\n",
      "gender                 28677 non-null object\n",
      "dtypes: float64(3), int64(35), object(12)\n",
      "memory usage: 11.2+ MB\n"
     ]
    }
   ],
   "source": [
    "pts_1.info()"
   ]
  },
  {
   "cell_type": "code",
   "execution_count": 17,
   "metadata": {},
   "outputs": [
    {
     "data": {
      "text/plain": [
       "array(['1101', '1102', '1105', '1108', '1109', '1111', '1113', '1114',\n",
       "       '1115', '1116', '1117', '1119', '1123', '1132', '1133', '1136',\n",
       "       '1141', '1144', '1145', '1148', '1149', '1150', '1154', '1155',\n",
       "       '1157', '1160', '1162', '1164', '1201', '1203', '1205', '1206',\n",
       "       '1208', '1209', '1215', '1216', '1217', '1218', '1221', '1222',\n",
       "       '1225', '1228', '1229', '1230', '1231', '1301', '1302', '1303',\n",
       "       '1304', '1305', '1306', '1307', '1308', '1309', '1310', '1311',\n",
       "       '1312', '1313', '1314', '1315', '1316', '1401', '1402', '1403',\n",
       "       '1404', '1405', '1406', '1407', '1408', '1501', '1502', '1503',\n",
       "       '1504', '1601', '1602', '1701', '2101', '2103', '2108', '2109',\n",
       "       '2110', '2113', '2116', '2117', '2120', '2121', '2124', '2125',\n",
       "       '2126', '2128', '2131', '2132', '2133', '2134', '2137', '2139',\n",
       "       '2140', '2141', '2143', '2144', '2145', '2148', '2149', '2156',\n",
       "       '2157', '2160', '2164', '2201', '2202', '2204', '2206', '2208',\n",
       "       '2209', '2211', '2212', '2214', '2216', '2217', '2219', '2220',\n",
       "       '2221', '2222', '2224', '2225', '2229', '2230', '2231', '2232',\n",
       "       '2301', '2303', '2304', '2305', '2306', '2307', '2308', '2309',\n",
       "       '2310', '2311', '2312', '2313', '2314', '2315', '2316', '2401',\n",
       "       '2402', '2403', '2404', '2405', '2406', '2407', '2408', '2501',\n",
       "       '2502', '2503', '2504', '2601', '2602', '2701'], dtype=object)"
      ]
     },
     "execution_count": 17,
     "metadata": {},
     "output_type": "execute_result"
    }
   ],
   "source": [
    "pts_1.match_id_simplified.unique()"
   ]
  },
  {
   "cell_type": "code",
   "execution_count": 18,
   "metadata": {},
   "outputs": [],
   "source": [
    "def get_rolling_avg(col1, col2, col3, target_col, dataframe, d):\n",
    "    col1_unique_vals = set(dataframe[col1])\n",
    "    col2_unique_vals = set(dataframe[col2])\n",
    "    col3_unique_vals = set(dataframe[col3])\n",
    "    \n",
    "    master_master_series = pd.Series()\n",
    "    for a in col1_unique_vals:\n",
    "        for b in col2_unique_vals:\n",
    "            for c in col3_unique_vals:\n",
    "                df_grouped = dataframe.groupby([col1,col2,col3]).get_group((a,b,c))\n",
    "                avg_speeds_series = (pd.Series([df_grouped[df_grouped[target_col]!=0]\n",
    "                                                [target_col].iloc[d:i].mean()\n",
    "                                                for i in range(len(df_grouped))], \n",
    "                                                  index = df_grouped.index))\n",
    "                master_master_series = pd.concat([master_master_series, avg_speeds_series], axis=0)\n",
    "    \n",
    "    return master_master_series\n",
    "        "
   ]
  },
  {
   "cell_type": "code",
   "execution_count": 19,
   "metadata": {},
   "outputs": [],
   "source": [
    "def get_avg_last_5(col1, col2, col3, target_col, dataframe):\n",
    "    col1_unique_vals = set(dataframe[col1])\n",
    "    col2_unique_vals = set(dataframe[col2])\n",
    "    col3_unique_vals = set(dataframe[col3])\n",
    "    \n",
    "    master_master_series = pd.Series()\n",
    "    for a in col1_unique_vals:\n",
    "        for b in col2_unique_vals:\n",
    "            for c in col3_unique_vals:\n",
    "                df_grouped = dataframe.groupby([col1,col2,col3]).get_group((a,b,c))\n",
    "                avg_speeds_series = (pd.Series([df_grouped[df_grouped[target_col]!=0]\n",
    "                                                [target_col].iloc[i-5:i].mean()\n",
    "                                                for i in range(len(df_grouped))], \n",
    "                                                  index = df_grouped.index))\n",
    "                master_master_series = pd.concat([master_master_series, avg_speeds_series], axis=0)\n",
    "    \n",
    "    return master_master_series"
   ]
  },
  {
   "cell_type": "code",
   "execution_count": 20,
   "metadata": {},
   "outputs": [],
   "source": [
    "pts_1['prior_avg_speed']=get_rolling_avg('match_id_simplified', \n",
    "                                            'PointServer', 'ServeNumber', \n",
    "                                            'Speed_MPH', pts_1, 0)"
   ]
  },
  {
   "cell_type": "code",
   "execution_count": 21,
   "metadata": {},
   "outputs": [],
   "source": [
    "pts_1['last_5_avg_speed']=get_avg_last_5('match_id_simplified', \n",
    "                                            'PointServer', 'ServeNumber', \n",
    "                                            'Speed_MPH', pts_1)"
   ]
  },
  {
   "cell_type": "code",
   "execution_count": 23,
   "metadata": {
    "scrolled": true
   },
   "outputs": [
    {
     "data": {
      "text/html": [
       "<div>\n",
       "<style scoped>\n",
       "    .dataframe tbody tr th:only-of-type {\n",
       "        vertical-align: middle;\n",
       "    }\n",
       "\n",
       "    .dataframe tbody tr th {\n",
       "        vertical-align: top;\n",
       "    }\n",
       "\n",
       "    .dataframe thead th {\n",
       "        text-align: right;\n",
       "    }\n",
       "</style>\n",
       "<table border=\"1\" class=\"dataframe\">\n",
       "  <thead>\n",
       "    <tr style=\"text-align: right;\">\n",
       "      <th></th>\n",
       "      <th>PointNumber</th>\n",
       "      <th>PointWinner</th>\n",
       "      <th>PointServer</th>\n",
       "      <th>ServeNumber</th>\n",
       "      <th>Speed_MPH</th>\n",
       "      <th>prior_avg_speed</th>\n",
       "      <th>last_5_avg_speed</th>\n",
       "      <th>P1PointsWon</th>\n",
       "      <th>P1Ace</th>\n",
       "      <th>P2Ace</th>\n",
       "      <th>Ace</th>\n",
       "    </tr>\n",
       "    <tr>\n",
       "      <th>unique_id</th>\n",
       "      <th></th>\n",
       "      <th></th>\n",
       "      <th></th>\n",
       "      <th></th>\n",
       "      <th></th>\n",
       "      <th></th>\n",
       "      <th></th>\n",
       "      <th></th>\n",
       "      <th></th>\n",
       "      <th></th>\n",
       "      <th></th>\n",
       "    </tr>\n",
       "  </thead>\n",
       "  <tbody>\n",
       "    <tr>\n",
       "      <th>1101-1</th>\n",
       "      <td>1</td>\n",
       "      <td>1</td>\n",
       "      <td>1</td>\n",
       "      <td>2</td>\n",
       "      <td>82</td>\n",
       "      <td>NaN</td>\n",
       "      <td>NaN</td>\n",
       "      <td>1</td>\n",
       "      <td>0</td>\n",
       "      <td>0</td>\n",
       "      <td>0</td>\n",
       "    </tr>\n",
       "    <tr>\n",
       "      <th>1101-2</th>\n",
       "      <td>2</td>\n",
       "      <td>2</td>\n",
       "      <td>1</td>\n",
       "      <td>2</td>\n",
       "      <td>0</td>\n",
       "      <td>82.000000</td>\n",
       "      <td>NaN</td>\n",
       "      <td>1</td>\n",
       "      <td>0</td>\n",
       "      <td>0</td>\n",
       "      <td>0</td>\n",
       "    </tr>\n",
       "    <tr>\n",
       "      <th>1101-3</th>\n",
       "      <td>3</td>\n",
       "      <td>1</td>\n",
       "      <td>1</td>\n",
       "      <td>1</td>\n",
       "      <td>119</td>\n",
       "      <td>NaN</td>\n",
       "      <td>NaN</td>\n",
       "      <td>2</td>\n",
       "      <td>0</td>\n",
       "      <td>0</td>\n",
       "      <td>0</td>\n",
       "    </tr>\n",
       "    <tr>\n",
       "      <th>1101-4</th>\n",
       "      <td>4</td>\n",
       "      <td>2</td>\n",
       "      <td>1</td>\n",
       "      <td>1</td>\n",
       "      <td>117</td>\n",
       "      <td>119.000000</td>\n",
       "      <td>NaN</td>\n",
       "      <td>2</td>\n",
       "      <td>0</td>\n",
       "      <td>0</td>\n",
       "      <td>0</td>\n",
       "    </tr>\n",
       "    <tr>\n",
       "      <th>1101-5</th>\n",
       "      <td>5</td>\n",
       "      <td>1</td>\n",
       "      <td>1</td>\n",
       "      <td>2</td>\n",
       "      <td>102</td>\n",
       "      <td>92.000000</td>\n",
       "      <td>NaN</td>\n",
       "      <td>3</td>\n",
       "      <td>0</td>\n",
       "      <td>0</td>\n",
       "      <td>0</td>\n",
       "    </tr>\n",
       "    <tr>\n",
       "      <th>1101-6</th>\n",
       "      <td>6</td>\n",
       "      <td>1</td>\n",
       "      <td>1</td>\n",
       "      <td>1</td>\n",
       "      <td>118</td>\n",
       "      <td>118.000000</td>\n",
       "      <td>NaN</td>\n",
       "      <td>4</td>\n",
       "      <td>0</td>\n",
       "      <td>0</td>\n",
       "      <td>0</td>\n",
       "    </tr>\n",
       "    <tr>\n",
       "      <th>1101-7</th>\n",
       "      <td>7</td>\n",
       "      <td>2</td>\n",
       "      <td>2</td>\n",
       "      <td>1</td>\n",
       "      <td>108</td>\n",
       "      <td>NaN</td>\n",
       "      <td>NaN</td>\n",
       "      <td>4</td>\n",
       "      <td>0</td>\n",
       "      <td>0</td>\n",
       "      <td>0</td>\n",
       "    </tr>\n",
       "    <tr>\n",
       "      <th>1101-8</th>\n",
       "      <td>8</td>\n",
       "      <td>1</td>\n",
       "      <td>2</td>\n",
       "      <td>1</td>\n",
       "      <td>108</td>\n",
       "      <td>108.000000</td>\n",
       "      <td>NaN</td>\n",
       "      <td>5</td>\n",
       "      <td>0</td>\n",
       "      <td>0</td>\n",
       "      <td>0</td>\n",
       "    </tr>\n",
       "    <tr>\n",
       "      <th>1101-9</th>\n",
       "      <td>9</td>\n",
       "      <td>1</td>\n",
       "      <td>2</td>\n",
       "      <td>2</td>\n",
       "      <td>97</td>\n",
       "      <td>NaN</td>\n",
       "      <td>NaN</td>\n",
       "      <td>6</td>\n",
       "      <td>0</td>\n",
       "      <td>0</td>\n",
       "      <td>0</td>\n",
       "    </tr>\n",
       "    <tr>\n",
       "      <th>1101-10</th>\n",
       "      <td>10</td>\n",
       "      <td>1</td>\n",
       "      <td>2</td>\n",
       "      <td>2</td>\n",
       "      <td>71</td>\n",
       "      <td>97.000000</td>\n",
       "      <td>NaN</td>\n",
       "      <td>7</td>\n",
       "      <td>0</td>\n",
       "      <td>0</td>\n",
       "      <td>0</td>\n",
       "    </tr>\n",
       "    <tr>\n",
       "      <th>1101-11</th>\n",
       "      <td>11</td>\n",
       "      <td>2</td>\n",
       "      <td>2</td>\n",
       "      <td>1</td>\n",
       "      <td>120</td>\n",
       "      <td>108.000000</td>\n",
       "      <td>NaN</td>\n",
       "      <td>7</td>\n",
       "      <td>0</td>\n",
       "      <td>1</td>\n",
       "      <td>1</td>\n",
       "    </tr>\n",
       "    <tr>\n",
       "      <th>1101-12</th>\n",
       "      <td>12</td>\n",
       "      <td>2</td>\n",
       "      <td>2</td>\n",
       "      <td>1</td>\n",
       "      <td>123</td>\n",
       "      <td>112.000000</td>\n",
       "      <td>NaN</td>\n",
       "      <td>7</td>\n",
       "      <td>0</td>\n",
       "      <td>0</td>\n",
       "      <td>0</td>\n",
       "    </tr>\n",
       "    <tr>\n",
       "      <th>1101-13</th>\n",
       "      <td>13</td>\n",
       "      <td>2</td>\n",
       "      <td>2</td>\n",
       "      <td>1</td>\n",
       "      <td>111</td>\n",
       "      <td>114.750000</td>\n",
       "      <td>NaN</td>\n",
       "      <td>7</td>\n",
       "      <td>0</td>\n",
       "      <td>0</td>\n",
       "      <td>0</td>\n",
       "    </tr>\n",
       "    <tr>\n",
       "      <th>1101-14</th>\n",
       "      <td>14</td>\n",
       "      <td>1</td>\n",
       "      <td>2</td>\n",
       "      <td>1</td>\n",
       "      <td>108</td>\n",
       "      <td>114.000000</td>\n",
       "      <td>114.0</td>\n",
       "      <td>8</td>\n",
       "      <td>0</td>\n",
       "      <td>0</td>\n",
       "      <td>0</td>\n",
       "    </tr>\n",
       "    <tr>\n",
       "      <th>1101-15</th>\n",
       "      <td>15</td>\n",
       "      <td>2</td>\n",
       "      <td>2</td>\n",
       "      <td>2</td>\n",
       "      <td>95</td>\n",
       "      <td>84.000000</td>\n",
       "      <td>NaN</td>\n",
       "      <td>8</td>\n",
       "      <td>0</td>\n",
       "      <td>0</td>\n",
       "      <td>0</td>\n",
       "    </tr>\n",
       "    <tr>\n",
       "      <th>1101-16</th>\n",
       "      <td>16</td>\n",
       "      <td>1</td>\n",
       "      <td>2</td>\n",
       "      <td>1</td>\n",
       "      <td>117</td>\n",
       "      <td>113.000000</td>\n",
       "      <td>114.0</td>\n",
       "      <td>9</td>\n",
       "      <td>0</td>\n",
       "      <td>0</td>\n",
       "      <td>0</td>\n",
       "    </tr>\n",
       "    <tr>\n",
       "      <th>1101-17</th>\n",
       "      <td>17</td>\n",
       "      <td>1</td>\n",
       "      <td>2</td>\n",
       "      <td>1</td>\n",
       "      <td>110</td>\n",
       "      <td>113.571429</td>\n",
       "      <td>115.8</td>\n",
       "      <td>10</td>\n",
       "      <td>0</td>\n",
       "      <td>0</td>\n",
       "      <td>0</td>\n",
       "    </tr>\n",
       "    <tr>\n",
       "      <th>1101-18</th>\n",
       "      <td>18</td>\n",
       "      <td>2</td>\n",
       "      <td>2</td>\n",
       "      <td>1</td>\n",
       "      <td>122</td>\n",
       "      <td>113.125000</td>\n",
       "      <td>113.8</td>\n",
       "      <td>10</td>\n",
       "      <td>0</td>\n",
       "      <td>0</td>\n",
       "      <td>0</td>\n",
       "    </tr>\n",
       "    <tr>\n",
       "      <th>1101-19</th>\n",
       "      <td>19</td>\n",
       "      <td>2</td>\n",
       "      <td>2</td>\n",
       "      <td>1</td>\n",
       "      <td>110</td>\n",
       "      <td>114.111111</td>\n",
       "      <td>113.6</td>\n",
       "      <td>10</td>\n",
       "      <td>0</td>\n",
       "      <td>0</td>\n",
       "      <td>0</td>\n",
       "    </tr>\n",
       "    <tr>\n",
       "      <th>1101-20</th>\n",
       "      <td>20</td>\n",
       "      <td>1</td>\n",
       "      <td>2</td>\n",
       "      <td>2</td>\n",
       "      <td>0</td>\n",
       "      <td>87.666667</td>\n",
       "      <td>NaN</td>\n",
       "      <td>11</td>\n",
       "      <td>0</td>\n",
       "      <td>0</td>\n",
       "      <td>0</td>\n",
       "    </tr>\n",
       "  </tbody>\n",
       "</table>\n",
       "</div>"
      ],
      "text/plain": [
       "          PointNumber  PointWinner  PointServer  ServeNumber  Speed_MPH  \\\n",
       "unique_id                                                                 \n",
       "1101-1              1            1            1            2         82   \n",
       "1101-2              2            2            1            2          0   \n",
       "1101-3              3            1            1            1        119   \n",
       "1101-4              4            2            1            1        117   \n",
       "1101-5              5            1            1            2        102   \n",
       "1101-6              6            1            1            1        118   \n",
       "1101-7              7            2            2            1        108   \n",
       "1101-8              8            1            2            1        108   \n",
       "1101-9              9            1            2            2         97   \n",
       "1101-10            10            1            2            2         71   \n",
       "1101-11            11            2            2            1        120   \n",
       "1101-12            12            2            2            1        123   \n",
       "1101-13            13            2            2            1        111   \n",
       "1101-14            14            1            2            1        108   \n",
       "1101-15            15            2            2            2         95   \n",
       "1101-16            16            1            2            1        117   \n",
       "1101-17            17            1            2            1        110   \n",
       "1101-18            18            2            2            1        122   \n",
       "1101-19            19            2            2            1        110   \n",
       "1101-20            20            1            2            2          0   \n",
       "\n",
       "           prior_avg_speed  last_5_avg_speed  P1PointsWon  P1Ace  P2Ace  Ace  \n",
       "unique_id                                                                     \n",
       "1101-1                 NaN               NaN            1      0      0    0  \n",
       "1101-2           82.000000               NaN            1      0      0    0  \n",
       "1101-3                 NaN               NaN            2      0      0    0  \n",
       "1101-4          119.000000               NaN            2      0      0    0  \n",
       "1101-5           92.000000               NaN            3      0      0    0  \n",
       "1101-6          118.000000               NaN            4      0      0    0  \n",
       "1101-7                 NaN               NaN            4      0      0    0  \n",
       "1101-8          108.000000               NaN            5      0      0    0  \n",
       "1101-9                 NaN               NaN            6      0      0    0  \n",
       "1101-10          97.000000               NaN            7      0      0    0  \n",
       "1101-11         108.000000               NaN            7      0      1    1  \n",
       "1101-12         112.000000               NaN            7      0      0    0  \n",
       "1101-13         114.750000               NaN            7      0      0    0  \n",
       "1101-14         114.000000             114.0            8      0      0    0  \n",
       "1101-15          84.000000               NaN            8      0      0    0  \n",
       "1101-16         113.000000             114.0            9      0      0    0  \n",
       "1101-17         113.571429             115.8           10      0      0    0  \n",
       "1101-18         113.125000             113.8           10      0      0    0  \n",
       "1101-19         114.111111             113.6           10      0      0    0  \n",
       "1101-20          87.666667               NaN           11      0      0    0  "
      ]
     },
     "execution_count": 23,
     "metadata": {},
     "output_type": "execute_result"
    }
   ],
   "source": [
    "pts_1['Ace'] = pts_1['P1Ace']+pts_1['P2Ace']\n",
    "pts_1[['PointNumber','PointWinner','PointServer',\n",
    "       'ServeNumber','Speed_MPH','prior_avg_speed',\n",
    "       'last_5_avg_speed','P1PointsWon','P1Ace','P2Ace','Ace']][0:20]"
   ]
  },
  {
   "cell_type": "code",
   "execution_count": 24,
   "metadata": {},
   "outputs": [],
   "source": [
    "def get_ace_rate(col1, col2, target_col, dataframe):\n",
    "    col1_unique_vals = set(dataframe[col1])\n",
    "    col2_unique_vals = set(dataframe[col2])\n",
    "    \n",
    "    master_master_series = pd.Series()\n",
    "    for a in col1_unique_vals:\n",
    "        for b in col2_unique_vals:\n",
    "            try:\n",
    "                df_grouped = dataframe.groupby([col1,col2]).get_group((a,b))\n",
    "                avg_speeds_series = (pd.Series([df_grouped[target_col].iloc[:i].mean()\n",
    "                                                for i in range(len(df_grouped))], \n",
    "                                                  index = df_grouped.index))\n",
    "                master_master_series = pd.concat([master_master_series, avg_speeds_series], axis=0)\n",
    "            except:\n",
    "                pass\n",
    "\n",
    "    return master_master_series\n",
    "        "
   ]
  },
  {
   "cell_type": "code",
   "execution_count": 25,
   "metadata": {},
   "outputs": [],
   "source": [
    "pts_1['AceRate']=get_ace_rate('match_id_simplified', 'PointServer', 'Ace', pts_1)"
   ]
  },
  {
   "cell_type": "code",
   "execution_count": 26,
   "metadata": {},
   "outputs": [],
   "source": [
    "def get_ace_rate_last_5(col1, col2, target_col, dataframe):\n",
    "    col1_unique_vals = set(dataframe[col1])\n",
    "    col2_unique_vals = set(dataframe[col2])\n",
    "    \n",
    "    master_master_series = pd.Series()\n",
    "    for a in col1_unique_vals:\n",
    "        for b in col2_unique_vals:\n",
    "            try:\n",
    "                df_grouped = dataframe.groupby([col1,col2]).get_group((a,b))\n",
    "                avg_speeds_series = (pd.Series([df_grouped[target_col].iloc[i-5:i].mean()\n",
    "                                                for i in range(len(df_grouped))], \n",
    "                                              index = df_grouped.index))\n",
    "                master_master_series = pd.concat([master_master_series, avg_speeds_series], axis=0)\n",
    "            except:\n",
    "                pass\n",
    "             \n",
    "    return master_master_series\n"
   ]
  },
  {
   "cell_type": "code",
   "execution_count": 27,
   "metadata": {},
   "outputs": [],
   "source": [
    "pts_1['DoubleFault'] = pts_1['P1DoubleFault']+pts_1['P2DoubleFault']"
   ]
  },
  {
   "cell_type": "code",
   "execution_count": 28,
   "metadata": {},
   "outputs": [],
   "source": [
    "pts_1['AceRate_last_5']=get_ace_rate_last_5('match_id_simplified', 'PointServer', 'Ace', pts_1)"
   ]
  },
  {
   "cell_type": "code",
   "execution_count": 29,
   "metadata": {},
   "outputs": [],
   "source": [
    "pts_1['DF_last_5']=get_ace_rate_last_5('match_id_simplified', 'PointServer', 'DoubleFault', pts_1)\n",
    "pts_1['DoubleFault_rate']=get_ace_rate('match_id_simplified', 'PointServer', 'DoubleFault', pts_1)"
   ]
  },
  {
   "cell_type": "code",
   "execution_count": 30,
   "metadata": {},
   "outputs": [],
   "source": [
    "def get_unferr_rate(col1, target_col, dataframe):\n",
    "    col1_unique_vals = set(dataframe[col1])\n",
    "    \n",
    "    master_master_series = pd.Series()\n",
    "    \n",
    "    for a in col1_unique_vals:\n",
    "        try:\n",
    "            df_grouped = dataframe.groupby([col1]).get_group((a))\n",
    "            avg_unferr_series = (pd.Series([df_grouped[target_col].iloc[:i].mean()\n",
    "                                            for i in range(len(df_grouped))], \n",
    "                                              index = df_grouped.index))\n",
    "            master_master_series = pd.concat([master_master_series, avg_unferr_series], axis=0)\n",
    "        except:\n",
    "            pass\n",
    "\n",
    "    return master_master_series"
   ]
  },
  {
   "cell_type": "code",
   "execution_count": 31,
   "metadata": {},
   "outputs": [],
   "source": [
    "def get_unferr_rate_last_5(col1, target_col, dataframe):\n",
    "    col1_unique_vals = set(dataframe[col1])\n",
    "    \n",
    "    master_master_series = pd.Series()\n",
    "\n",
    "    for a in col1_unique_vals:\n",
    "        try:\n",
    "            df_grouped = dataframe.groupby([col1]).get_group((a))\n",
    "            avg_unferr_series = (pd.Series([df_grouped[target_col].iloc[i-5:i].mean()\n",
    "                                                for i in range(len(df_grouped))], \n",
    "                                                  index = df_grouped.index))\n",
    "            master_master_series = pd.concat([master_master_series, avg_unferr_series], axis=0)\n",
    "        except:\n",
    "            pass\n",
    "    return master_master_series"
   ]
  },
  {
   "cell_type": "code",
   "execution_count": 32,
   "metadata": {},
   "outputs": [
    {
     "data": {
      "text/plain": [
       "0"
      ]
     },
     "execution_count": 32,
     "metadata": {},
     "output_type": "execute_result"
    }
   ],
   "source": [
    "pts_1.iloc[2137-4]['P1NetPointWon']"
   ]
  },
  {
   "cell_type": "code",
   "execution_count": 33,
   "metadata": {},
   "outputs": [],
   "source": [
    "pts_1['P1UnfErrRate'] = get_unferr_rate('match_id_simplified','P1UnfErr', pts_1)\n",
    "pts_1['P2UnfErrRate'] = get_unferr_rate('match_id_simplified','P1UnfErr', pts_1)\n",
    "pts_1['P1UnfErr_last5'] = get_unferr_rate_last_5('match_id_simplified', 'P1UnfErr', pts_1)\n",
    "pts_1['P2UnfErr_last5'] = get_unferr_rate_last_5('match_id_simplified', 'P1UnfErr', pts_1)\n",
    "pts_1['P1AceRate'] = get_unferr_rate('match_id_simplified', 'P1Ace', pts_1)\n",
    "pts_1['P2AceRate'] = get_unferr_rate('match_id_simplified', 'P2Ace', pts_1)\n",
    "pts_1['P1AceRate_last5'] = get_unferr_rate_last_5('match_id_simplified', 'P1Ace', pts_1)\n",
    "pts_1['P2AceRate_last5'] = get_unferr_rate_last_5('match_id_simplified', 'P1Ace', pts_1)\n",
    "pts_1['P1NetRate'] = get_unferr_rate('match_id_simplified', 'P1NetPoint', pts_1)\n",
    "pts_1['P2NetRate'] = get_unferr_rate('match_id_simplified', 'P2NetPoint', pts_1)\n",
    "pts_1['P1NetRate_last5'] = get_unferr_rate_last_5('match_id_simplified', 'P1NetPoint', pts_1)\n",
    "pts_1['P2NetRate_last5'] = get_unferr_rate_last_5('match_id_simplified', 'P2NetPoint', pts_1)\n",
    "\n",
    "pts_1['P1BreakRate'] = get_unferr_rate('match_id_simplified', 'P1BreakPoint', pts_1)\n",
    "pts_1['P2BreakRate'] = get_unferr_rate('match_id_simplified', 'P2BreakPoint', pts_1)\n",
    "pts_1['P1BreakRate_last5'] = get_unferr_rate_last_5('match_id_simplified', 'P1BreakPoint', pts_1)\n",
    "pts_1['P2BreakRate_last5'] = get_unferr_rate_last_5('match_id_simplified', 'P2BreakPoint', pts_1)\n",
    "pts_1['P1BreakPointWinRate']=get_ace_rate('match_id_simplified', 'P1BreakPoint', 'P1BreakPointWon', pts_1)\n",
    "pts_1['P2BreakPointWinRate']=get_ace_rate('match_id_simplified', 'P2BreakPoint', 'P2BreakPointWon', pts_1)\n",
    "pts_1['P1BreakPointWinRate_last5']=get_ace_rate_last_5('match_id_simplified', 'P1BreakPoint', \n",
    "                                                       'P1BreakPointWon', pts_1)\n",
    "pts_1['P2BreakPointWinRate_last5']=get_ace_rate_last_5('match_id_simplified', 'P2BreakPoint', \n",
    "                                                       'P2BreakPointWon', pts_1)\n",
    "\n",
    "pts_1['P1AvgDistanceRun'] = get_unferr_rate('match_id_simplified', 'P1DistanceRun', pts_1)*3.28084\n",
    "pts_1['P2AvgDistanceRun'] = get_unferr_rate('match_id_simplified', 'P2DistanceRun', pts_1)*3.28084\n",
    "pts_1['P1DistRun_last5'] = get_unferr_rate_last_5('match_id_simplified', 'P1DistanceRun', pts_1)*3.28084\n",
    "pts_1['P2DistRun_last5'] = get_unferr_rate_last_5('match_id_simplified', 'P1DistanceRun', pts_1)*3.28084\n",
    "\n",
    "pts_1['AvgRallyCount'] = get_unferr_rate('match_id_simplified', 'RallyCount', pts_1)\n",
    "pts_1['last_5_RallyCount'] = get_unferr_rate_last_5('match_id_simplified', 'RallyCount', pts_1)"
   ]
  },
  {
   "cell_type": "code",
   "execution_count": 34,
   "metadata": {},
   "outputs": [],
   "source": [
    "pts_1['P1NetPointWinRate']=get_ace_rate('match_id_simplified', 'P1NetPoint', 'P1NetPointWon', pts_1)\n",
    "pts_1['P2NetPointWinRate']=get_ace_rate('match_id_simplified', 'P2NetPoint', 'P2NetPointWon', pts_1)\n",
    "pts_1['P1NetPointWinRate_last5']=get_ace_rate_last_5('match_id_simplified', 'P1NetPoint', 'P1NetPointWon', pts_1)\n",
    "pts_1['P2NetPointWinRate_last5']=get_ace_rate_last_5('match_id_simplified', 'P2NetPoint', 'P2NetPointWon', pts_1)\n"
   ]
  },
  {
   "cell_type": "code",
   "execution_count": 35,
   "metadata": {},
   "outputs": [],
   "source": [
    "P1_Score = []\n",
    "for score in pts_1['P1Score']:\n",
    "    if score == '15':\n",
    "        a = int(1)\n",
    "    elif score == '30':\n",
    "        a = int(2)\n",
    "    elif score == '40':\n",
    "        a = int(3)\n",
    "    elif score == 'AD':\n",
    "        a = int(4)\n",
    "    else:\n",
    "        a = int(score)\n",
    "    P1_Score.append(a-1)"
   ]
  },
  {
   "cell_type": "code",
   "execution_count": 36,
   "metadata": {},
   "outputs": [],
   "source": [
    "P2_Score = []\n",
    "for score in pts_1['P1Score']:\n",
    "    if score == '15':\n",
    "        a = int(1)\n",
    "    elif score == '30':\n",
    "        a = int(2)\n",
    "    elif score == '40':\n",
    "        a = int(3)\n",
    "    elif score == 'AD':\n",
    "        a = int(4)\n",
    "    else:\n",
    "        a = int(score)\n",
    "    P2_Score.append(a-1)"
   ]
  },
  {
   "cell_type": "code",
   "execution_count": 37,
   "metadata": {},
   "outputs": [],
   "source": [
    "pts_1['P1_Score'] = P1_Score\n",
    "pts_1['P2_Score'] = P2_Score"
   ]
  },
  {
   "cell_type": "code",
   "execution_count": 38,
   "metadata": {},
   "outputs": [],
   "source": [
    "pts_1['P1PointsWon'] = [int(point) - 1 if int(point)>=1 else 0 for point in pts_1['P1PointsWon']]\n",
    "pts_1['P2PointsWon'] = [int(point) - 1 if int(point)>=1 else 0 for point in pts_1['P2PointsWon']]"
   ]
  },
  {
   "cell_type": "code",
   "execution_count": 39,
   "metadata": {},
   "outputs": [],
   "source": [
    "pts_1['P1GamesWon'] = [pts_1['P1GamesWon'].iloc[i-1] \n",
    "                       if i>=1 else 0 for i,game in enumerate(pts_1['P1GamesWon'])]\n",
    "pts_1['P2GamesWon'] = [pts_1['P2GamesWon'].iloc[i-1] \n",
    "                       if i>=1 else 0 for i,game in enumerate(pts_1['P2GamesWon'])]"
   ]
  },
  {
   "cell_type": "code",
   "execution_count": 40,
   "metadata": {},
   "outputs": [
    {
     "name": "stdout",
     "output_type": "stream",
     "text": [
      "<class 'pandas.core.frame.DataFrame'>\n",
      "Index: 28677 entries, 1101-1 to 2701-145\n",
      "Data columns (total 90 columns):\n",
      "match_id                     28677 non-null object\n",
      "ElapsedTime                  28677 non-null object\n",
      "SetNo                        28677 non-null int64\n",
      "P1GamesWon                   28677 non-null int64\n",
      "P2GamesWon                   28677 non-null int64\n",
      "SetWinner                    28677 non-null int64\n",
      "GameNo                       28677 non-null int64\n",
      "GameWinner                   28677 non-null int64\n",
      "PointNumber                  28677 non-null object\n",
      "PointWinner                  28677 non-null int64\n",
      "PointServer                  28677 non-null int64\n",
      "Speed_KMH                    28677 non-null int64\n",
      "P1Score                      28677 non-null object\n",
      "P2Score                      28677 non-null object\n",
      "P1Momentum                   28677 non-null int64\n",
      "P2Momentum                   28677 non-null int64\n",
      "P1PointsWon                  28677 non-null int64\n",
      "P2PointsWon                  28677 non-null int64\n",
      "P1Ace                        28677 non-null int64\n",
      "P2Ace                        28677 non-null int64\n",
      "P1Winner                     28677 non-null int64\n",
      "P2Winner                     28677 non-null int64\n",
      "P1DoubleFault                28677 non-null int64\n",
      "P2DoubleFault                28677 non-null int64\n",
      "P1UnfErr                     28677 non-null int64\n",
      "P2UnfErr                     28677 non-null int64\n",
      "P1NetPoint                   28677 non-null int64\n",
      "P2NetPoint                   28677 non-null int64\n",
      "P1NetPointWon                28677 non-null int64\n",
      "P2NetPointWon                28677 non-null int64\n",
      "P1BreakPoint                 28677 non-null int64\n",
      "P2BreakPoint                 28677 non-null int64\n",
      "P1BreakPointWon              28677 non-null int64\n",
      "P2BreakPointWon              28677 non-null int64\n",
      "History                      28677 non-null float64\n",
      "Speed_MPH                    28677 non-null int64\n",
      "P1BreakPointMissed           28677 non-null int64\n",
      "P2BreakPointMissed           28677 non-null int64\n",
      "ServeIndicator               28677 non-null int64\n",
      "ServeNumber                  28677 non-null int64\n",
      "WinnerType                   28677 non-null object\n",
      "WinnerShotType               28677 non-null object\n",
      "P1DistanceRun                28677 non-null float64\n",
      "P2DistanceRun                28677 non-null float64\n",
      "RallyCount                   28677 non-null int64\n",
      "ServeWidth                   25970 non-null object\n",
      "ServeDepth                   25970 non-null object\n",
      "ReturnDepth                  21183 non-null object\n",
      "match_id_simplified          28677 non-null object\n",
      "gender                       28677 non-null object\n",
      "prior_avg_speed              27997 non-null float64\n",
      "last_5_avg_speed             25032 non-null float64\n",
      "Ace                          28677 non-null int64\n",
      "AceRate                      28361 non-null float64\n",
      "DoubleFault                  28677 non-null int64\n",
      "AceRate_last_5               27097 non-null float64\n",
      "DF_last_5                    27097 non-null float64\n",
      "DoubleFault_rate             28361 non-null float64\n",
      "P1UnfErrRate                 28519 non-null float64\n",
      "P2UnfErrRate                 28519 non-null float64\n",
      "P1UnfErr_last5               27887 non-null float64\n",
      "P2UnfErr_last5               27887 non-null float64\n",
      "P1AceRate                    28519 non-null float64\n",
      "P2AceRate                    28519 non-null float64\n",
      "P1AceRate_last5              27887 non-null float64\n",
      "P2AceRate_last5              27887 non-null float64\n",
      "P1NetRate                    28519 non-null float64\n",
      "P2NetRate                    28519 non-null float64\n",
      "P1NetRate_last5              27887 non-null float64\n",
      "P2NetRate_last5              27887 non-null float64\n",
      "P1BreakRate                  28519 non-null float64\n",
      "P2BreakRate                  28519 non-null float64\n",
      "P1BreakRate_last5            27887 non-null float64\n",
      "P2BreakRate_last5            27887 non-null float64\n",
      "P1BreakPointWinRate          28366 non-null float64\n",
      "P2BreakPointWinRate          28365 non-null float64\n",
      "P1BreakPointWinRate_last5    27230 non-null float64\n",
      "P2BreakPointWinRate_last5    27229 non-null float64\n",
      "P1AvgDistanceRun             28519 non-null float64\n",
      "P2AvgDistanceRun             28519 non-null float64\n",
      "P1DistRun_last5              27887 non-null float64\n",
      "P2DistRun_last5              27887 non-null float64\n",
      "AvgRallyCount                28519 non-null float64\n",
      "last_5_RallyCount            27887 non-null float64\n",
      "P1NetPointWinRate            28362 non-null float64\n",
      "P2NetPointWinRate            28361 non-null float64\n",
      "P1NetPointWinRate_last5      27162 non-null float64\n",
      "P2NetPointWinRate_last5      27145 non-null float64\n",
      "P1_Score                     28677 non-null int64\n",
      "P2_Score                     28677 non-null int64\n",
      "dtypes: float64(39), int64(39), object(12)\n",
      "memory usage: 19.9+ MB\n"
     ]
    }
   ],
   "source": [
    "pts_1.info()"
   ]
  },
  {
   "cell_type": "code",
   "execution_count": 41,
   "metadata": {},
   "outputs": [],
   "source": [
    "cols_to_drop1 = ['ElapsedTime','SetWinner','GameWinner','Speed_KMH','P1Score','P2Score',\n",
    "                'P1Momentum','P2Momentum','P1Ace','P2Ace','P1Winner','P2Winner','P1DoubleFault',\n",
    "                'P2DoubleFault','P1UnfErr','P2UnfErr','P1NetPoint','P2NetPoint','P1BreakPointWon',\n",
    "                'P2BreakPointWon','History','Speed_MPH','P1BreakPointMissed','P2BreakPointMissed',\n",
    "                'ServeIndicator','WinnerType','WinnerShotType','P1DistanceRun','P2DistanceRun',\n",
    "                'RallyCount','ServeWidth','ServeDepth','ReturnDepth','Ace','DoubleFault',\n",
    "                 'P1NetPointWon','P2NetPointWon']\n",
    "final_pts = pts_1\n",
    "for col in cols_to_drop1:\n",
    "    final_pts = final_pts.drop(col, axis=1)"
   ]
  },
  {
   "cell_type": "code",
   "execution_count": 42,
   "metadata": {},
   "outputs": [
    {
     "name": "stdout",
     "output_type": "stream",
     "text": [
      "<class 'pandas.core.frame.DataFrame'>\n",
      "Index: 28677 entries, 1101-1 to 2701-145\n",
      "Data columns (total 53 columns):\n",
      "match_id                     28677 non-null object\n",
      "SetNo                        28677 non-null int64\n",
      "P1GamesWon                   28677 non-null int64\n",
      "P2GamesWon                   28677 non-null int64\n",
      "GameNo                       28677 non-null int64\n",
      "PointNumber                  28677 non-null object\n",
      "PointWinner                  28677 non-null int64\n",
      "PointServer                  28677 non-null int64\n",
      "P1PointsWon                  28677 non-null int64\n",
      "P2PointsWon                  28677 non-null int64\n",
      "P1BreakPoint                 28677 non-null int64\n",
      "P2BreakPoint                 28677 non-null int64\n",
      "ServeNumber                  28677 non-null int64\n",
      "match_id_simplified          28677 non-null object\n",
      "gender                       28677 non-null object\n",
      "prior_avg_speed              27997 non-null float64\n",
      "last_5_avg_speed             25032 non-null float64\n",
      "AceRate                      28361 non-null float64\n",
      "AceRate_last_5               27097 non-null float64\n",
      "DF_last_5                    27097 non-null float64\n",
      "DoubleFault_rate             28361 non-null float64\n",
      "P1UnfErrRate                 28519 non-null float64\n",
      "P2UnfErrRate                 28519 non-null float64\n",
      "P1UnfErr_last5               27887 non-null float64\n",
      "P2UnfErr_last5               27887 non-null float64\n",
      "P1AceRate                    28519 non-null float64\n",
      "P2AceRate                    28519 non-null float64\n",
      "P1AceRate_last5              27887 non-null float64\n",
      "P2AceRate_last5              27887 non-null float64\n",
      "P1NetRate                    28519 non-null float64\n",
      "P2NetRate                    28519 non-null float64\n",
      "P1NetRate_last5              27887 non-null float64\n",
      "P2NetRate_last5              27887 non-null float64\n",
      "P1BreakRate                  28519 non-null float64\n",
      "P2BreakRate                  28519 non-null float64\n",
      "P1BreakRate_last5            27887 non-null float64\n",
      "P2BreakRate_last5            27887 non-null float64\n",
      "P1BreakPointWinRate          28366 non-null float64\n",
      "P2BreakPointWinRate          28365 non-null float64\n",
      "P1BreakPointWinRate_last5    27230 non-null float64\n",
      "P2BreakPointWinRate_last5    27229 non-null float64\n",
      "P1AvgDistanceRun             28519 non-null float64\n",
      "P2AvgDistanceRun             28519 non-null float64\n",
      "P1DistRun_last5              27887 non-null float64\n",
      "P2DistRun_last5              27887 non-null float64\n",
      "AvgRallyCount                28519 non-null float64\n",
      "last_5_RallyCount            27887 non-null float64\n",
      "P1NetPointWinRate            28362 non-null float64\n",
      "P2NetPointWinRate            28361 non-null float64\n",
      "P1NetPointWinRate_last5      27162 non-null float64\n",
      "P2NetPointWinRate_last5      27145 non-null float64\n",
      "P1_Score                     28677 non-null int64\n",
      "P2_Score                     28677 non-null int64\n",
      "dtypes: float64(36), int64(13), object(4)\n",
      "memory usage: 11.8+ MB\n"
     ]
    }
   ],
   "source": [
    "final_pts.info()"
   ]
  },
  {
   "cell_type": "code",
   "execution_count": 43,
   "metadata": {},
   "outputs": [],
   "source": [
    "final_pts_1 = final_pts.dropna()"
   ]
  },
  {
   "cell_type": "code",
   "execution_count": 44,
   "metadata": {},
   "outputs": [
    {
     "name": "stdout",
     "output_type": "stream",
     "text": [
      "<class 'pandas.core.frame.DataFrame'>\n",
      "Index: 22977 entries, 1101-14 to 2701-144\n",
      "Data columns (total 53 columns):\n",
      "match_id                     22977 non-null object\n",
      "SetNo                        22977 non-null int64\n",
      "P1GamesWon                   22977 non-null int64\n",
      "P2GamesWon                   22977 non-null int64\n",
      "GameNo                       22977 non-null int64\n",
      "PointNumber                  22977 non-null object\n",
      "PointWinner                  22977 non-null int64\n",
      "PointServer                  22977 non-null int64\n",
      "P1PointsWon                  22977 non-null int64\n",
      "P2PointsWon                  22977 non-null int64\n",
      "P1BreakPoint                 22977 non-null int64\n",
      "P2BreakPoint                 22977 non-null int64\n",
      "ServeNumber                  22977 non-null int64\n",
      "match_id_simplified          22977 non-null object\n",
      "gender                       22977 non-null object\n",
      "prior_avg_speed              22977 non-null float64\n",
      "last_5_avg_speed             22977 non-null float64\n",
      "AceRate                      22977 non-null float64\n",
      "AceRate_last_5               22977 non-null float64\n",
      "DF_last_5                    22977 non-null float64\n",
      "DoubleFault_rate             22977 non-null float64\n",
      "P1UnfErrRate                 22977 non-null float64\n",
      "P2UnfErrRate                 22977 non-null float64\n",
      "P1UnfErr_last5               22977 non-null float64\n",
      "P2UnfErr_last5               22977 non-null float64\n",
      "P1AceRate                    22977 non-null float64\n",
      "P2AceRate                    22977 non-null float64\n",
      "P1AceRate_last5              22977 non-null float64\n",
      "P2AceRate_last5              22977 non-null float64\n",
      "P1NetRate                    22977 non-null float64\n",
      "P2NetRate                    22977 non-null float64\n",
      "P1NetRate_last5              22977 non-null float64\n",
      "P2NetRate_last5              22977 non-null float64\n",
      "P1BreakRate                  22977 non-null float64\n",
      "P2BreakRate                  22977 non-null float64\n",
      "P1BreakRate_last5            22977 non-null float64\n",
      "P2BreakRate_last5            22977 non-null float64\n",
      "P1BreakPointWinRate          22977 non-null float64\n",
      "P2BreakPointWinRate          22977 non-null float64\n",
      "P1BreakPointWinRate_last5    22977 non-null float64\n",
      "P2BreakPointWinRate_last5    22977 non-null float64\n",
      "P1AvgDistanceRun             22977 non-null float64\n",
      "P2AvgDistanceRun             22977 non-null float64\n",
      "P1DistRun_last5              22977 non-null float64\n",
      "P2DistRun_last5              22977 non-null float64\n",
      "AvgRallyCount                22977 non-null float64\n",
      "last_5_RallyCount            22977 non-null float64\n",
      "P1NetPointWinRate            22977 non-null float64\n",
      "P2NetPointWinRate            22977 non-null float64\n",
      "P1NetPointWinRate_last5      22977 non-null float64\n",
      "P2NetPointWinRate_last5      22977 non-null float64\n",
      "P1_Score                     22977 non-null int64\n",
      "P2_Score                     22977 non-null int64\n",
      "dtypes: float64(36), int64(13), object(4)\n",
      "memory usage: 9.5+ MB\n"
     ]
    }
   ],
   "source": [
    "final_pts_1.info()"
   ]
  },
  {
   "cell_type": "code",
   "execution_count": 279,
   "metadata": {},
   "outputs": [
    {
     "data": {
      "text/html": [
       "<div>\n",
       "<style scoped>\n",
       "    .dataframe tbody tr th:only-of-type {\n",
       "        vertical-align: middle;\n",
       "    }\n",
       "\n",
       "    .dataframe tbody tr th {\n",
       "        vertical-align: top;\n",
       "    }\n",
       "\n",
       "    .dataframe thead th {\n",
       "        text-align: right;\n",
       "    }\n",
       "</style>\n",
       "<table border=\"1\" class=\"dataframe\">\n",
       "  <thead>\n",
       "    <tr style=\"text-align: right;\">\n",
       "      <th></th>\n",
       "      <th>match_id</th>\n",
       "      <th>SetNo</th>\n",
       "      <th>P1GamesWon</th>\n",
       "      <th>P2GamesWon</th>\n",
       "      <th>GameNo</th>\n",
       "      <th>PointNumber</th>\n",
       "      <th>PointWinner</th>\n",
       "      <th>PointServer</th>\n",
       "      <th>P1PointsWon</th>\n",
       "      <th>P2PointsWon</th>\n",
       "      <th>...</th>\n",
       "      <th>P1DistRun_last5</th>\n",
       "      <th>P2DistRun_last5</th>\n",
       "      <th>AvgRallyCount</th>\n",
       "      <th>last_5_RallyCount</th>\n",
       "      <th>P1NetPointWinRate</th>\n",
       "      <th>P2NetPointWinRate</th>\n",
       "      <th>P1NetPointWinRate_last5</th>\n",
       "      <th>P2NetPointWinRate_last5</th>\n",
       "      <th>P1_Score</th>\n",
       "      <th>P2_Score</th>\n",
       "    </tr>\n",
       "    <tr>\n",
       "      <th>unique_id</th>\n",
       "      <th></th>\n",
       "      <th></th>\n",
       "      <th></th>\n",
       "      <th></th>\n",
       "      <th></th>\n",
       "      <th></th>\n",
       "      <th></th>\n",
       "      <th></th>\n",
       "      <th></th>\n",
       "      <th></th>\n",
       "      <th></th>\n",
       "      <th></th>\n",
       "      <th></th>\n",
       "      <th></th>\n",
       "      <th></th>\n",
       "      <th></th>\n",
       "      <th></th>\n",
       "      <th></th>\n",
       "      <th></th>\n",
       "      <th></th>\n",
       "      <th></th>\n",
       "    </tr>\n",
       "  </thead>\n",
       "  <tbody>\n",
       "    <tr>\n",
       "      <th>1101-14</th>\n",
       "      <td>2019-usopen-1101</td>\n",
       "      <td>1</td>\n",
       "      <td>1</td>\n",
       "      <td>0</td>\n",
       "      <td>2</td>\n",
       "      <td>14</td>\n",
       "      <td>1</td>\n",
       "      <td>2</td>\n",
       "      <td>7</td>\n",
       "      <td>5</td>\n",
       "      <td>...</td>\n",
       "      <td>69.938979</td>\n",
       "      <td>69.938979</td>\n",
       "      <td>5.076923</td>\n",
       "      <td>7.4</td>\n",
       "      <td>0.0</td>\n",
       "      <td>0.0</td>\n",
       "      <td>0.0</td>\n",
       "      <td>0.0</td>\n",
       "      <td>2</td>\n",
       "      <td>2</td>\n",
       "    </tr>\n",
       "    <tr>\n",
       "      <th>1101-17</th>\n",
       "      <td>2019-usopen-1101</td>\n",
       "      <td>1</td>\n",
       "      <td>1</td>\n",
       "      <td>0</td>\n",
       "      <td>2</td>\n",
       "      <td>17</td>\n",
       "      <td>1</td>\n",
       "      <td>2</td>\n",
       "      <td>9</td>\n",
       "      <td>6</td>\n",
       "      <td>...</td>\n",
       "      <td>87.466538</td>\n",
       "      <td>87.466538</td>\n",
       "      <td>5.812500</td>\n",
       "      <td>8.2</td>\n",
       "      <td>0.0</td>\n",
       "      <td>0.0</td>\n",
       "      <td>0.0</td>\n",
       "      <td>0.0</td>\n",
       "      <td>3</td>\n",
       "      <td>3</td>\n",
       "    </tr>\n",
       "    <tr>\n",
       "      <th>1101-19</th>\n",
       "      <td>2019-usopen-1101</td>\n",
       "      <td>1</td>\n",
       "      <td>1</td>\n",
       "      <td>0</td>\n",
       "      <td>2</td>\n",
       "      <td>19</td>\n",
       "      <td>0</td>\n",
       "      <td>2</td>\n",
       "      <td>9</td>\n",
       "      <td>8</td>\n",
       "      <td>...</td>\n",
       "      <td>106.362864</td>\n",
       "      <td>106.362864</td>\n",
       "      <td>6.444444</td>\n",
       "      <td>10.0</td>\n",
       "      <td>0.0</td>\n",
       "      <td>0.0</td>\n",
       "      <td>0.0</td>\n",
       "      <td>0.0</td>\n",
       "      <td>2</td>\n",
       "      <td>2</td>\n",
       "    </tr>\n",
       "    <tr>\n",
       "      <th>1101-21</th>\n",
       "      <td>2019-usopen-1101</td>\n",
       "      <td>1</td>\n",
       "      <td>1</td>\n",
       "      <td>0</td>\n",
       "      <td>2</td>\n",
       "      <td>21</td>\n",
       "      <td>0</td>\n",
       "      <td>2</td>\n",
       "      <td>10</td>\n",
       "      <td>9</td>\n",
       "      <td>...</td>\n",
       "      <td>94.158139</td>\n",
       "      <td>94.158139</td>\n",
       "      <td>6.050000</td>\n",
       "      <td>8.4</td>\n",
       "      <td>0.0</td>\n",
       "      <td>0.0</td>\n",
       "      <td>0.0</td>\n",
       "      <td>0.0</td>\n",
       "      <td>2</td>\n",
       "      <td>2</td>\n",
       "    </tr>\n",
       "    <tr>\n",
       "      <th>1101-22</th>\n",
       "      <td>2019-usopen-1101</td>\n",
       "      <td>1</td>\n",
       "      <td>1</td>\n",
       "      <td>0</td>\n",
       "      <td>2</td>\n",
       "      <td>22</td>\n",
       "      <td>0</td>\n",
       "      <td>2</td>\n",
       "      <td>10</td>\n",
       "      <td>10</td>\n",
       "      <td>...</td>\n",
       "      <td>88.795278</td>\n",
       "      <td>88.795278</td>\n",
       "      <td>6.380952</td>\n",
       "      <td>8.2</td>\n",
       "      <td>0.0</td>\n",
       "      <td>0.0</td>\n",
       "      <td>0.0</td>\n",
       "      <td>0.0</td>\n",
       "      <td>-1</td>\n",
       "      <td>-1</td>\n",
       "    </tr>\n",
       "  </tbody>\n",
       "</table>\n",
       "<p>5 rows × 53 columns</p>\n",
       "</div>"
      ],
      "text/plain": [
       "                   match_id  SetNo  P1GamesWon  P2GamesWon  GameNo  \\\n",
       "unique_id                                                            \n",
       "1101-14    2019-usopen-1101      1           1           0       2   \n",
       "1101-17    2019-usopen-1101      1           1           0       2   \n",
       "1101-19    2019-usopen-1101      1           1           0       2   \n",
       "1101-21    2019-usopen-1101      1           1           0       2   \n",
       "1101-22    2019-usopen-1101      1           1           0       2   \n",
       "\n",
       "          PointNumber  PointWinner  PointServer  P1PointsWon  P2PointsWon  \\\n",
       "unique_id                                                                   \n",
       "1101-14            14            1            2            7            5   \n",
       "1101-17            17            1            2            9            6   \n",
       "1101-19            19            0            2            9            8   \n",
       "1101-21            21            0            2           10            9   \n",
       "1101-22            22            0            2           10           10   \n",
       "\n",
       "           ...  P1DistRun_last5  P2DistRun_last5  AvgRallyCount  \\\n",
       "unique_id  ...                                                    \n",
       "1101-14    ...        69.938979        69.938979       5.076923   \n",
       "1101-17    ...        87.466538        87.466538       5.812500   \n",
       "1101-19    ...       106.362864       106.362864       6.444444   \n",
       "1101-21    ...        94.158139        94.158139       6.050000   \n",
       "1101-22    ...        88.795278        88.795278       6.380952   \n",
       "\n",
       "          last_5_RallyCount P1NetPointWinRate  P2NetPointWinRate  \\\n",
       "unique_id                                                          \n",
       "1101-14                 7.4               0.0                0.0   \n",
       "1101-17                 8.2               0.0                0.0   \n",
       "1101-19                10.0               0.0                0.0   \n",
       "1101-21                 8.4               0.0                0.0   \n",
       "1101-22                 8.2               0.0                0.0   \n",
       "\n",
       "           P1NetPointWinRate_last5  P2NetPointWinRate_last5  P1_Score  \\\n",
       "unique_id                                                               \n",
       "1101-14                        0.0                      0.0         2   \n",
       "1101-17                        0.0                      0.0         3   \n",
       "1101-19                        0.0                      0.0         2   \n",
       "1101-21                        0.0                      0.0         2   \n",
       "1101-22                        0.0                      0.0        -1   \n",
       "\n",
       "           P2_Score  \n",
       "unique_id            \n",
       "1101-14           2  \n",
       "1101-17           3  \n",
       "1101-19           2  \n",
       "1101-21           2  \n",
       "1101-22          -1  \n",
       "\n",
       "[5 rows x 53 columns]"
      ]
     },
     "execution_count": 279,
     "metadata": {},
     "output_type": "execute_result"
    }
   ],
   "source": [
    "final_pts_1.head()"
   ]
  },
  {
   "cell_type": "markdown",
   "metadata": {},
   "source": [
    "# EDA"
   ]
  },
  {
   "cell_type": "code",
   "execution_count": 266,
   "metadata": {},
   "outputs": [
    {
     "name": "stdout",
     "output_type": "stream",
     "text": [
      "Target Variable\n",
      "PointWinner\n",
      "0    11415\n",
      "1    11562\n",
      "Name: PointWinner, dtype: int64\n"
     ]
    },
    {
     "data": {
      "image/png": "[encoded data removed]",
      "text/plain": [
       "<Figure size 720x360 with 1 Axes>"
      ]
     },
     "metadata": {},
     "output_type": "display_data"
    }
   ],
   "source": [
    "print('Target Variable')\n",
    "print(final_pts_1.groupby(['PointWinner']).PointWinner.count())\n",
    "\n",
    "# Target Variable Countplot\n",
    "sns.set_style('darkgrid')\n",
    "plt.figure(figsize = (10,5))\n",
    "sns.countplot(final_pts_1['PointWinner'], alpha =.80, palette= ['blue','green'])\n",
    "plt.title('Player 1 Wins')\n",
    "plt.ylabel('Points Won')\n",
    "plt.show()"
   ]
  },
  {
   "cell_type": "code",
   "execution_count": 269,
   "metadata": {},
   "outputs": [
    {
     "data": {
      "image/png": "[encoded data removed]",
      "text/plain": [
       "<Figure size 1440x1440 with 49 Axes>"
      ]
     },
     "metadata": {},
     "output_type": "display_data"
    }
   ],
   "source": [
    "final_pts_1.hist(figsize  = [20,20]);"
   ]
  },
  {
   "cell_type": "code",
   "execution_count": null,
   "metadata": {},
   "outputs": [],
   "source": []
  },
  {
   "cell_type": "markdown",
   "metadata": {},
   "source": [
    "# MODEL BUILDING"
   ]
  },
  {
   "cell_type": "code",
   "execution_count": 209,
   "metadata": {},
   "outputs": [],
   "source": [
    "from sklearn.model_selection import train_test_split\n",
    "from sklearn.tree import DecisionTreeClassifier \n",
    "from sklearn.metrics import accuracy_score\n",
    "from sklearn.tree import export_graphviz\n",
    "from sklearn.preprocessing import OneHotEncoder\n",
    "from IPython.display import Image  \n",
    "from sklearn.tree import export_graphviz\n",
    "import pydotplus\n",
    "from pydotplus import graph_from_dot_data\n",
    "import pandas\n",
    "from sklearn.model_selection import KFold\n",
    "from sklearn.preprocessing import MinMaxScaler\n",
    "from sklearn.preprocessing import StandardScaler\n",
    "from sklearn.svm import SVR\n",
    "from sklearn.metrics import classification_report\n",
    "from sklearn.model_selection import cross_val_score\n",
    "from sklearn.model_selection import GridSearchCV\n",
    "from sklearn.ensemble import RandomForestClassifier\n",
    "from sklearn.ensemble import GradientBoostingClassifier\n",
    "from sklearn.ensemble import AdaBoostClassifier\n",
    "from sklearn.linear_model import LogisticRegression"
   ]
  },
  {
   "cell_type": "code",
   "execution_count": 280,
   "metadata": {},
   "outputs": [],
   "source": [
    "#create dummies for categorical variables\n",
    "dummies = pd.DataFrame([])\n",
    "\n",
    "PointServer_dummies = pd.get_dummies(final_pts_1.PointServer.astype('category'), \n",
    "                                     prefix=\"PointServer\", drop_first=True)\n",
    "P1BreakPoint_dummies = pd.get_dummies(final_pts_1.P1BreakPoint.astype('category'), \n",
    "                                      prefix=\"P1BP\", drop_first=True)\n",
    "P2BreakPoint_dummies = pd.get_dummies(final_pts_1.P2BreakPoint.astype('category'), \n",
    "                                      prefix=\"P2BP\", drop_first=True)\n",
    "match_id_dummies = pd.get_dummies(final_pts_1.match_id_simplified.astype('category'), \n",
    "                                  prefix=\"match\", drop_first=True)\n",
    "gender_dummies = pd.get_dummies(final_pts_1.gender.astype('category'), prefix=\"gender\", drop_first=True)\n"
   ]
  },
  {
   "cell_type": "code",
   "execution_count": 286,
   "metadata": {},
   "outputs": [],
   "source": [
    "dummies = pd.concat([PointServer_dummies,P1BreakPoint_dummies,\n",
    "                     P2BreakPoint_dummies,gender_dummies], axis=1)"
   ]
  },
  {
   "cell_type": "code",
   "execution_count": 288,
   "metadata": {},
   "outputs": [],
   "source": [
    "cat_to_drop1 = ['PointServer','P1BreakPoint','P2BreakPoint','match_id_simplified',\n",
    "                'gender','match_id']\n",
    "continuous = final_pts_1\n",
    "for col in cat_to_drop1:\n",
    "    continuous = continuous.drop(col, axis=1)\n",
    "\n",
    "continuous['PointNumber'] = continuous['PointNumber'].astype(int)"
   ]
  },
  {
   "cell_type": "code",
   "execution_count": 289,
   "metadata": {},
   "outputs": [],
   "source": [
    "#standardize continuous predictors\n",
    "scaler = sklearn.preprocessing.StandardScaler()\n",
    "scaled_continuous = scaler.fit_transform(continuous)\n",
    "scaled_continuous = pd.DataFrame(scaled_continuous, columns=continuous.columns)"
   ]
  },
  {
   "cell_type": "code",
   "execution_count": 290,
   "metadata": {},
   "outputs": [
    {
     "name": "stderr",
     "output_type": "stream",
     "text": [
      "/Users/sashaepelbaum/anaconda3/lib/python3.7/site-packages/ipykernel_launcher.py:1: SettingWithCopyWarning: \n",
      "A value is trying to be set on a copy of a slice from a DataFrame.\n",
      "Try using .loc[row_indexer,col_indexer] = value instead\n",
      "\n",
      "See the caveats in the documentation: http://pandas.pydata.org/pandas-docs/stable/indexing.html#indexing-view-versus-copy\n",
      "  \"\"\"Entry point for launching an IPython kernel.\n"
     ]
    }
   ],
   "source": [
    "final_pts_1['PointWinner'] = [0 if ele == 2 else ele for ele in final_pts_1['PointWinner']]"
   ]
  },
  {
   "cell_type": "code",
   "execution_count": 291,
   "metadata": {},
   "outputs": [
    {
     "data": {
      "text/plain": [
       "11562"
      ]
     },
     "execution_count": 291,
     "metadata": {},
     "output_type": "execute_result"
    }
   ],
   "source": [
    "sum(final_pts_1['PointWinner'])"
   ]
  },
  {
   "cell_type": "code",
   "execution_count": 293,
   "metadata": {},
   "outputs": [],
   "source": [
    "#target variable\n",
    "Y = final_pts_1['PointWinner']"
   ]
  },
  {
   "cell_type": "code",
   "execution_count": 294,
   "metadata": {},
   "outputs": [],
   "source": [
    "predictors = pd.merge(dummies, scaled_continuous, on=dummies.index)\n",
    "predictors = predictors.drop(['PointWinner'], axis=1).set_index('key_0')\n"
   ]
  },
  {
   "cell_type": "code",
   "execution_count": null,
   "metadata": {},
   "outputs": [],
   "source": []
  },
  {
   "cell_type": "code",
   "execution_count": 295,
   "metadata": {},
   "outputs": [
    {
     "data": {
      "text/html": [
       "<div>\n",
       "<style scoped>\n",
       "    .dataframe tbody tr th:only-of-type {\n",
       "        vertical-align: middle;\n",
       "    }\n",
       "\n",
       "    .dataframe tbody tr th {\n",
       "        vertical-align: top;\n",
       "    }\n",
       "\n",
       "    .dataframe thead th {\n",
       "        text-align: right;\n",
       "    }\n",
       "</style>\n",
       "<table border=\"1\" class=\"dataframe\">\n",
       "  <thead>\n",
       "    <tr style=\"text-align: right;\">\n",
       "      <th></th>\n",
       "      <th>PointServer_2</th>\n",
       "      <th>P1BP_1</th>\n",
       "      <th>P2BP_1</th>\n",
       "      <th>gender_W</th>\n",
       "      <th>SetNo</th>\n",
       "      <th>P1GamesWon</th>\n",
       "      <th>P2GamesWon</th>\n",
       "      <th>GameNo</th>\n",
       "      <th>PointNumber</th>\n",
       "      <th>P1PointsWon</th>\n",
       "      <th>...</th>\n",
       "      <th>P1DistRun_last5</th>\n",
       "      <th>P2DistRun_last5</th>\n",
       "      <th>AvgRallyCount</th>\n",
       "      <th>last_5_RallyCount</th>\n",
       "      <th>P1NetPointWinRate</th>\n",
       "      <th>P2NetPointWinRate</th>\n",
       "      <th>P1NetPointWinRate_last5</th>\n",
       "      <th>P2NetPointWinRate_last5</th>\n",
       "      <th>P1_Score</th>\n",
       "      <th>P2_Score</th>\n",
       "    </tr>\n",
       "    <tr>\n",
       "      <th>key_0</th>\n",
       "      <th></th>\n",
       "      <th></th>\n",
       "      <th></th>\n",
       "      <th></th>\n",
       "      <th></th>\n",
       "      <th></th>\n",
       "      <th></th>\n",
       "      <th></th>\n",
       "      <th></th>\n",
       "      <th></th>\n",
       "      <th></th>\n",
       "      <th></th>\n",
       "      <th></th>\n",
       "      <th></th>\n",
       "      <th></th>\n",
       "      <th></th>\n",
       "      <th></th>\n",
       "      <th></th>\n",
       "      <th></th>\n",
       "      <th></th>\n",
       "      <th></th>\n",
       "    </tr>\n",
       "  </thead>\n",
       "  <tbody>\n",
       "    <tr>\n",
       "      <th>1101-14</th>\n",
       "      <td>1</td>\n",
       "      <td>0</td>\n",
       "      <td>0</td>\n",
       "      <td>0</td>\n",
       "      <td>-1.273038</td>\n",
       "      <td>-0.908209</td>\n",
       "      <td>-1.418723</td>\n",
       "      <td>-1.264238</td>\n",
       "      <td>-1.538701</td>\n",
       "      <td>-1.497535</td>\n",
       "      <td>...</td>\n",
       "      <td>1.367517</td>\n",
       "      <td>1.367517</td>\n",
       "      <td>1.026313</td>\n",
       "      <td>1.696312</td>\n",
       "      <td>-0.279803</td>\n",
       "      <td>-0.281274</td>\n",
       "      <td>-0.273222</td>\n",
       "      <td>-0.275117</td>\n",
       "      <td>1.162279</td>\n",
       "      <td>1.162279</td>\n",
       "    </tr>\n",
       "    <tr>\n",
       "      <th>1101-17</th>\n",
       "      <td>1</td>\n",
       "      <td>0</td>\n",
       "      <td>0</td>\n",
       "      <td>0</td>\n",
       "      <td>-1.273038</td>\n",
       "      <td>-0.908209</td>\n",
       "      <td>-1.418723</td>\n",
       "      <td>-1.264238</td>\n",
       "      <td>-1.494452</td>\n",
       "      <td>-1.439575</td>\n",
       "      <td>...</td>\n",
       "      <td>2.165127</td>\n",
       "      <td>2.165127</td>\n",
       "      <td>1.820122</td>\n",
       "      <td>2.114014</td>\n",
       "      <td>-0.279803</td>\n",
       "      <td>-0.281274</td>\n",
       "      <td>-0.273222</td>\n",
       "      <td>-0.275117</td>\n",
       "      <td>1.931585</td>\n",
       "      <td>1.931585</td>\n",
       "    </tr>\n",
       "    <tr>\n",
       "      <th>1101-19</th>\n",
       "      <td>1</td>\n",
       "      <td>0</td>\n",
       "      <td>0</td>\n",
       "      <td>0</td>\n",
       "      <td>-1.273038</td>\n",
       "      <td>-0.908209</td>\n",
       "      <td>-1.418723</td>\n",
       "      <td>-1.264238</td>\n",
       "      <td>-1.464954</td>\n",
       "      <td>-1.439575</td>\n",
       "      <td>...</td>\n",
       "      <td>3.025023</td>\n",
       "      <td>3.025023</td>\n",
       "      <td>2.502095</td>\n",
       "      <td>3.053845</td>\n",
       "      <td>-0.279803</td>\n",
       "      <td>-0.281274</td>\n",
       "      <td>-0.273222</td>\n",
       "      <td>-0.275117</td>\n",
       "      <td>1.162279</td>\n",
       "      <td>1.162279</td>\n",
       "    </tr>\n",
       "    <tr>\n",
       "      <th>1101-21</th>\n",
       "      <td>1</td>\n",
       "      <td>0</td>\n",
       "      <td>0</td>\n",
       "      <td>0</td>\n",
       "      <td>-1.273038</td>\n",
       "      <td>-0.908209</td>\n",
       "      <td>-1.418723</td>\n",
       "      <td>-1.264238</td>\n",
       "      <td>-1.435455</td>\n",
       "      <td>-1.410596</td>\n",
       "      <td>...</td>\n",
       "      <td>2.469635</td>\n",
       "      <td>2.469635</td>\n",
       "      <td>2.076424</td>\n",
       "      <td>2.218440</td>\n",
       "      <td>-0.279803</td>\n",
       "      <td>-0.281274</td>\n",
       "      <td>-0.273222</td>\n",
       "      <td>-0.275117</td>\n",
       "      <td>1.162279</td>\n",
       "      <td>1.162279</td>\n",
       "    </tr>\n",
       "    <tr>\n",
       "      <th>1101-22</th>\n",
       "      <td>1</td>\n",
       "      <td>0</td>\n",
       "      <td>0</td>\n",
       "      <td>0</td>\n",
       "      <td>-1.273038</td>\n",
       "      <td>-0.908209</td>\n",
       "      <td>-1.418723</td>\n",
       "      <td>-1.264238</td>\n",
       "      <td>-1.420706</td>\n",
       "      <td>-1.410596</td>\n",
       "      <td>...</td>\n",
       "      <td>2.225592</td>\n",
       "      <td>2.225592</td>\n",
       "      <td>2.433577</td>\n",
       "      <td>2.114014</td>\n",
       "      <td>-0.279803</td>\n",
       "      <td>-0.281274</td>\n",
       "      <td>-0.273222</td>\n",
       "      <td>-0.275117</td>\n",
       "      <td>-1.145638</td>\n",
       "      <td>-1.145638</td>\n",
       "    </tr>\n",
       "  </tbody>\n",
       "</table>\n",
       "<p>5 rows × 50 columns</p>\n",
       "</div>"
      ],
      "text/plain": [
       "         PointServer_2  P1BP_1  P2BP_1  gender_W     SetNo  P1GamesWon  \\\n",
       "key_0                                                                    \n",
       "1101-14              1       0       0         0 -1.273038   -0.908209   \n",
       "1101-17              1       0       0         0 -1.273038   -0.908209   \n",
       "1101-19              1       0       0         0 -1.273038   -0.908209   \n",
       "1101-21              1       0       0         0 -1.273038   -0.908209   \n",
       "1101-22              1       0       0         0 -1.273038   -0.908209   \n",
       "\n",
       "         P2GamesWon    GameNo  PointNumber  P1PointsWon  ...  P1DistRun_last5  \\\n",
       "key_0                                                    ...                    \n",
       "1101-14   -1.418723 -1.264238    -1.538701    -1.497535  ...         1.367517   \n",
       "1101-17   -1.418723 -1.264238    -1.494452    -1.439575  ...         2.165127   \n",
       "1101-19   -1.418723 -1.264238    -1.464954    -1.439575  ...         3.025023   \n",
       "1101-21   -1.418723 -1.264238    -1.435455    -1.410596  ...         2.469635   \n",
       "1101-22   -1.418723 -1.264238    -1.420706    -1.410596  ...         2.225592   \n",
       "\n",
       "         P2DistRun_last5  AvgRallyCount  last_5_RallyCount  P1NetPointWinRate  \\\n",
       "key_0                                                                           \n",
       "1101-14         1.367517       1.026313           1.696312          -0.279803   \n",
       "1101-17         2.165127       1.820122           2.114014          -0.279803   \n",
       "1101-19         3.025023       2.502095           3.053845          -0.279803   \n",
       "1101-21         2.469635       2.076424           2.218440          -0.279803   \n",
       "1101-22         2.225592       2.433577           2.114014          -0.279803   \n",
       "\n",
       "         P2NetPointWinRate  P1NetPointWinRate_last5  P2NetPointWinRate_last5  \\\n",
       "key_0                                                                          \n",
       "1101-14          -0.281274                -0.273222                -0.275117   \n",
       "1101-17          -0.281274                -0.273222                -0.275117   \n",
       "1101-19          -0.281274                -0.273222                -0.275117   \n",
       "1101-21          -0.281274                -0.273222                -0.275117   \n",
       "1101-22          -0.281274                -0.273222                -0.275117   \n",
       "\n",
       "         P1_Score  P2_Score  \n",
       "key_0                        \n",
       "1101-14  1.162279  1.162279  \n",
       "1101-17  1.931585  1.931585  \n",
       "1101-19  1.162279  1.162279  \n",
       "1101-21  1.162279  1.162279  \n",
       "1101-22 -1.145638 -1.145638  \n",
       "\n",
       "[5 rows x 50 columns]"
      ]
     },
     "execution_count": 295,
     "metadata": {},
     "output_type": "execute_result"
    }
   ],
   "source": [
    "predictors.head()"
   ]
  },
  {
   "cell_type": "markdown",
   "metadata": {},
   "source": [
    "## Base Model"
   ]
  },
  {
   "cell_type": "code",
   "execution_count": 297,
   "metadata": {},
   "outputs": [
    {
     "data": {
      "text/plain": [
       "0.5016755886321104"
      ]
     },
     "execution_count": 297,
     "metadata": {},
     "output_type": "execute_result"
    }
   ],
   "source": [
    "from sklearn.dummy import DummyClassifier\n",
    "X = predictors\n",
    "y = Y\n",
    "dummy_clf = DummyClassifier()\n",
    "dummy_clf.fit(X, y)\n",
    "\n",
    "dummy_clf.predict(X)\n",
    "\n",
    "#WHAT DOES THIS SCORE MEAN???\n",
    "dummy_clf.score(X, y)"
   ]
  },
  {
   "cell_type": "markdown",
   "metadata": {},
   "source": [
    "# Train-Test Split for Model Building"
   ]
  },
  {
   "cell_type": "code",
   "execution_count": 298,
   "metadata": {},
   "outputs": [],
   "source": [
    "#train-test split\n",
    "X_train, X_test, y_train, y_test = train_test_split(X, y, test_size = 0.3, random_state = 42)\n"
   ]
  },
  {
   "cell_type": "markdown",
   "metadata": {},
   "source": [
    "# Basic Decision Tree"
   ]
  },
  {
   "cell_type": "code",
   "execution_count": 299,
   "metadata": {},
   "outputs": [
    {
     "data": {
      "text/plain": [
       "DecisionTreeClassifier(class_weight=None, criterion='entropy', max_depth=10,\n",
       "                       max_features=None, max_leaf_nodes=None,\n",
       "                       min_impurity_decrease=0.0, min_impurity_split=None,\n",
       "                       min_samples_leaf=1, min_samples_split=2,\n",
       "                       min_weight_fraction_leaf=0.0, presort=False,\n",
       "                       random_state=None, splitter='best')"
      ]
     },
     "execution_count": 299,
     "metadata": {},
     "output_type": "execute_result"
    }
   ],
   "source": [
    "clf= DecisionTreeClassifier(criterion='entropy', max_depth = 10)\n",
    "clf.fit(X_train, y_train)"
   ]
  },
  {
   "cell_type": "code",
   "execution_count": 300,
   "metadata": {},
   "outputs": [],
   "source": [
    "dot_data = export_graphviz(clf, out_file=None, \n",
    "                           feature_names=X_train.columns,  \n",
    "                           class_names=np.unique(y).astype('str'), \n",
    "                           filled=True, rounded=True, special_characters=True)\n",
    "\n",
    "# Draw graph\n",
    "graph = graph_from_dot_data(dot_data)  \n",
    "\n",
    "# Show graph\n",
    "# Image(graph.create_png())"
   ]
  },
  {
   "cell_type": "code",
   "execution_count": 302,
   "metadata": {},
   "outputs": [],
   "source": [
    "# Show graph\n",
    "# Image(graph.create_png())"
   ]
  },
  {
   "cell_type": "code",
   "execution_count": 303,
   "metadata": {},
   "outputs": [
    {
     "name": "stdout",
     "output_type": "stream",
     "text": [
      "Accuracy:  0.7541340295909487\n"
     ]
    }
   ],
   "source": [
    "y_preds = clf.predict(X_test)\n",
    "\n",
    "print('Accuracy: ', accuracy_score(y_test, y_preds))"
   ]
  },
  {
   "cell_type": "markdown",
   "metadata": {},
   "source": [
    "# Model Evaluation Functions"
   ]
  },
  {
   "cell_type": "code",
   "execution_count": 304,
   "metadata": {},
   "outputs": [],
   "source": [
    "from sklearn.metrics import confusion_matrix\n",
    "cm = confusion_matrix(y_test,y_preds)\n",
    "classes = ['P1 Wins', 'P2 Wins']"
   ]
  },
  {
   "cell_type": "code",
   "execution_count": 305,
   "metadata": {},
   "outputs": [],
   "source": [
    "def plot_confusion_matrix(cm, classes,\n",
    "                          normalize=False,\n",
    "                          title='Confusion matrix',\n",
    "                          cmap=plt.cm.Blues):\n",
    "    \"\"\"\n",
    "    This function prints and plots the confusion matrix.\n",
    "    Normalization can be applied by setting `normalize=True`.\n",
    "    \"\"\"\n",
    "    if normalize:\n",
    "        cm = cm.astype('float') / cm.sum(axis=1)[:, np.newaxis]\n",
    "        print(\"Normalized confusion matrix\")\n",
    "    else:\n",
    "        print('Confusion Matrix, without normalization')\n",
    "\n",
    "    print(cm)\n",
    "\n",
    "    plt.imshow(cm, interpolation='nearest', cmap=cmap)\n",
    "    plt.title(title)\n",
    "    plt.colorbar()\n",
    "    tick_marks = np.arange(len(classes))\n",
    "    plt.xticks(tick_marks, classes, rotation=45)\n",
    "    plt.yticks(tick_marks, classes)\n",
    "\n",
    "    fmt = '.2f' if normalize else 'd'\n",
    "    thresh = cm.max() / 2.\n",
    "    for i, j in itertools.product(range(cm.shape[0]), range(cm.shape[1])):\n",
    "        plt.text(j, i, format(cm[i, j], fmt),\n",
    "                 horizontalalignment=\"center\",\n",
    "                 color=\"white\" if cm[i, j] > thresh else \"black\")\n",
    "\n",
    "    plt.tight_layout()\n",
    "    plt.ylabel('True label')\n",
    "    plt.xlabel('Predicted label')"
   ]
  },
  {
   "cell_type": "code",
   "execution_count": 306,
   "metadata": {},
   "outputs": [],
   "source": [
    "def matrix_interpretation( y_test, y_preds):\n",
    "    confusion = sklearn.metrics.confusion_matrix(y_test, y_preds)\n",
    "    TP = confusion[0, 0]\n",
    "    TN = confusion[1, 1]\n",
    "    FP = confusion[1, 0]\n",
    "    FN = confusion[0, 1]\n",
    "    print('There are {0} True Positives'.format(TP))\n",
    "    print('There are {0} True Negatives'.format(TN))\n",
    "    print('There are {0} False Positives'.format(FP))\n",
    "    print('There are {0} False Negatives'.format(FN))\n"
   ]
  },
  {
   "cell_type": "code",
   "execution_count": 307,
   "metadata": {},
   "outputs": [],
   "source": [
    "def evaluate_class(y_test, y_preds):\n",
    "\n",
    "    acc = accuracy_score(y_test, y_preds)\n",
    "    precision = sklearn.metrics.precision_score(y_test, y_preds)\n",
    "    recall = sklearn.metrics.recall_score(y_test,y_preds)\n",
    "    roc_auc = sklearn.metrics.roc_auc_score(y_test, y_preds)\n",
    "    #Overall, how often is the classifier correct?\n",
    "    print('Accuracy is :{0}'.format(acc))\n",
    "    #When a positive value is predicted, how often is the prediction correct?\n",
    "    print('Precision is :{0}'.format(precision))\n",
    "    #What proportion of actual positives was identified correctly?\n",
    "    print('Recall is :{0}'.format(recall))\n",
    "    #What does this mean?!\n",
    "    print('\\nAUC is :{0}'.format(round(roc_auc, 2)))\n",
    "    return acc, precision, recall, roc_auc\n"
   ]
  },
  {
   "cell_type": "markdown",
   "metadata": {},
   "source": [
    "## Testing Model Evaluation Functions on Basic Decision Tree"
   ]
  },
  {
   "cell_type": "markdown",
   "metadata": {},
   "source": [
    "### Confusion Matrix"
   ]
  },
  {
   "cell_type": "code",
   "execution_count": 308,
   "metadata": {},
   "outputs": [
    {
     "name": "stdout",
     "output_type": "stream",
     "text": [
      "Confusion Matrix, without normalization\n",
      "[[2347 1048]\n",
      " [ 647 2852]]\n"
     ]
    },
    {
     "data": {
      "image/png": "[encoded data removed]",
      "text/plain": [
       "<Figure size 432x288 with 2 Axes>"
      ]
     },
     "metadata": {},
     "output_type": "display_data"
    }
   ],
   "source": [
    "plot_confusion_matrix(cm, classes,\n",
    "                          normalize=False,\n",
    "                          title='Confusion matrix',\n",
    "                          cmap=plt.cm.Blues)"
   ]
  },
  {
   "cell_type": "markdown",
   "metadata": {},
   "source": [
    "### Matrix Interpretation, Accuracy, Precision, Recall"
   ]
  },
  {
   "cell_type": "code",
   "execution_count": 309,
   "metadata": {
    "scrolled": false
   },
   "outputs": [
    {
     "name": "stdout",
     "output_type": "stream",
     "text": [
      "There are 2347 True Positives\n",
      "There are 2852 True Negatives\n",
      "There are 647 False Positives\n",
      "There are 1048 False Negatives\n"
     ]
    }
   ],
   "source": [
    "matrix_interpretation(y_test,y_preds)"
   ]
  },
  {
   "cell_type": "code",
   "execution_count": 310,
   "metadata": {},
   "outputs": [
    {
     "name": "stdout",
     "output_type": "stream",
     "text": [
      "Accuracy is :0.7541340295909487\n",
      "Precision is :0.7312820512820513\n",
      "Recall is :0.8150900257216348\n",
      "\n",
      "AUC is :0.75\n"
     ]
    },
    {
     "data": {
      "text/plain": [
       "(0.7541340295909487,\n",
       " 0.7312820512820513,\n",
       " 0.8150900257216348,\n",
       " 0.7532003884131002)"
      ]
     },
     "execution_count": 310,
     "metadata": {},
     "output_type": "execute_result"
    }
   ],
   "source": [
    "evaluate_class(y_test, y_preds)"
   ]
  },
  {
   "cell_type": "markdown",
   "metadata": {},
   "source": [
    "# Logistic Regression"
   ]
  },
  {
   "cell_type": "code",
   "execution_count": 311,
   "metadata": {},
   "outputs": [
    {
     "data": {
      "text/plain": [
       "LogisticRegression(C=1000000000000.0, class_weight=None, dual=False,\n",
       "                   fit_intercept=False, intercept_scaling=1, l1_ratio=None,\n",
       "                   max_iter=100, multi_class='warn', n_jobs=None, penalty='l2',\n",
       "                   random_state=None, solver='liblinear', tol=0.0001, verbose=0,\n",
       "                   warm_start=False)"
      ]
     },
     "execution_count": 311,
     "metadata": {},
     "output_type": "execute_result"
    }
   ],
   "source": [
    "logreg = LogisticRegression(fit_intercept=False, C=1e12, solver='liblinear')\n",
    "model_log = logreg.fit(X_train, y_train)\n",
    "model_log"
   ]
  },
  {
   "cell_type": "code",
   "execution_count": 312,
   "metadata": {},
   "outputs": [],
   "source": [
    "log_y_preds = logreg.predict(X_test)\n",
    "y_hat_train = logreg.predict(X_train)"
   ]
  },
  {
   "cell_type": "code",
   "execution_count": 313,
   "metadata": {},
   "outputs": [
    {
     "name": "stdout",
     "output_type": "stream",
     "text": [
      "Accuracy is :0.6521612996808819\n",
      "Precision is :0.6708035991312442\n",
      "Recall is :0.6178908259502716\n",
      "\n",
      "AUC is :0.65\n",
      "There are 2334 True Positives\n",
      "There are 2162 True Negatives\n",
      "There are 1337 False Positives\n",
      "There are 1061 False Negatives\n",
      "Confusion Matrix, without normalization\n",
      "[[2334 1061]\n",
      " [1337 2162]]\n"
     ]
    },
    {
     "data": {
      "image/png": "[encoded data removed]",
      "text/plain": [
       "<Figure size 432x288 with 2 Axes>"
      ]
     },
     "metadata": {},
     "output_type": "display_data"
    }
   ],
   "source": [
    "log_cm = confusion_matrix(y_test,log_y_preds)\n",
    "log_classes = ['P1 Wins', 'P2 Wins']\n",
    "\n",
    "evaluate_class(y_test, log_y_preds)\n",
    "matrix_interpretation(y_test,log_y_preds)\n",
    "plot_confusion_matrix(log_cm, log_classes,\n",
    "                          normalize=False,\n",
    "                          title='Confusion matrix',\n",
    "                          cmap=plt.cm.Blues)"
   ]
  },
  {
   "cell_type": "code",
   "execution_count": 314,
   "metadata": {},
   "outputs": [
    {
     "name": "stdout",
     "output_type": "stream",
     "text": [
      "1    2397\n",
      "2    2333\n",
      "0    2164\n",
      "Name: PointWinner, dtype: int64\n",
      "1    0.347694\n",
      "2    0.338410\n",
      "0    0.313896\n",
      "Name: PointWinner, dtype: float64\n"
     ]
    }
   ],
   "source": [
    "residuals = np.abs(y_test - y_hat_test)\n",
    "print(pd.Series(residuals).value_counts())\n",
    "print(pd.Series(residuals).value_counts(normalize=True))"
   ]
  },
  {
   "cell_type": "code",
   "execution_count": 315,
   "metadata": {},
   "outputs": [],
   "source": [
    "# First calculate the probability scores of each of the datapoints:\n",
    "y_score = logreg.fit(X_train, y_train).decision_function(X_test)\n",
    "\n",
    "\n",
    "y_score\n",
    "from sklearn.metrics import roc_curve, auc\n",
    "fpr, tpr, thresholds = roc_curve(y_test, y_score)"
   ]
  },
  {
   "cell_type": "code",
   "execution_count": 316,
   "metadata": {},
   "outputs": [
    {
     "name": "stdout",
     "output_type": "stream",
     "text": [
      "AUC: 0.7229607786108465\n"
     ]
    }
   ],
   "source": [
    "print('AUC: {}'.format(auc(fpr, tpr)))"
   ]
  },
  {
   "cell_type": "code",
   "execution_count": 317,
   "metadata": {},
   "outputs": [
    {
     "name": "stdout",
     "output_type": "stream",
     "text": [
      "AUC: 0.7229607786108465\n"
     ]
    },
    {
     "data": {
      "image/png": "[encoded data removed]",
      "text/plain": [
       "<Figure size 720x576 with 1 Axes>"
      ]
     },
     "metadata": {},
     "output_type": "display_data"
    }
   ],
   "source": [
    "import matplotlib.pyplot as plt\n",
    "import seaborn as sns\n",
    "%matplotlib inline\n",
    "\n",
    "# Seaborn's beautiful styling\n",
    "sns.set_style('darkgrid', {'axes.facecolor': '0.9'})\n",
    "\n",
    "print('AUC: {}'.format(auc(fpr, tpr)))\n",
    "plt.figure(figsize=(10, 8))\n",
    "lw = 2\n",
    "plt.plot(fpr, tpr, color='darkorange',\n",
    "         lw=lw, label='ROC curve')\n",
    "plt.plot([0, 1], [0, 1], color='navy', lw=lw, linestyle='--')\n",
    "plt.xlim([0.0, 1.0])\n",
    "plt.ylim([0.0, 1.05])\n",
    "plt.yticks([i/20.0 for i in range(21)])\n",
    "plt.xticks([i/20.0 for i in range(21)])\n",
    "plt.xlabel('False Positive Rate')\n",
    "plt.ylabel('True Positive Rate')\n",
    "plt.title('Receiver operating characteristic (ROC) Curve')\n",
    "plt.legend(loc='lower right')\n",
    "plt.show()"
   ]
  },
  {
   "cell_type": "code",
   "execution_count": 318,
   "metadata": {},
   "outputs": [
    {
     "data": {
      "text/plain": [
       "{'PointServer_2': -0.5989539397861534,\n",
       " 'P1BP_1': 0.18051501729132352,\n",
       " 'P2BP_1': 0.6866791097734426,\n",
       " 'gender_W': 0.5268558841926938,\n",
       " 'SetNo': -0.036492853418136066,\n",
       " 'P1GamesWon': -0.027401226082886348,\n",
       " 'P2GamesWon': 0.2605629578161859,\n",
       " 'GameNo': -0.25998079147502945,\n",
       " 'PointNumber': 15.6500027234447,\n",
       " 'P1PointsWon': -6.317394594380406,\n",
       " 'P2PointsWon': -9.457294772519116,\n",
       " 'ServeNumber': 0.18967106766530836,\n",
       " 'prior_avg_speed': 0.2653612001035224,\n",
       " 'last_5_avg_speed': 0.024401145315596378,\n",
       " 'AceRate': -0.10005198979878463,\n",
       " 'AceRate_last_5': 0.046443377932616006,\n",
       " 'DF_last_5': -0.014530496891343253,\n",
       " 'DoubleFault_rate': -0.04848436655735586,\n",
       " 'P1UnfErrRate': 0.0263450759641459,\n",
       " 'P2UnfErrRate': 0.0263450759641459,\n",
       " 'P1UnfErr_last5': 0.008455979268664881,\n",
       " 'P2UnfErr_last5': 0.008455979268664881,\n",
       " 'P1AceRate': 0.04484063885782322,\n",
       " 'P2AceRate': 0.12474992965004081,\n",
       " 'P1AceRate_last5': -0.0018292683374696863,\n",
       " 'P2AceRate_last5': -0.0018292683374696863,\n",
       " 'P1NetRate': 0.016301893305824256,\n",
       " 'P2NetRate': 0.05931858096045805,\n",
       " 'P1NetRate_last5': 0.002460422067195491,\n",
       " 'P2NetRate_last5': 0.005523561297441399,\n",
       " 'P1BreakRate': -0.09016508318838612,\n",
       " 'P2BreakRate': 0.1307331160418378,\n",
       " 'P1BreakRate_last5': -0.021508571811419516,\n",
       " 'P2BreakRate_last5': -0.07147174978333376,\n",
       " 'P1BreakPointWinRate': -0.003960662859740947,\n",
       " 'P2BreakPointWinRate': -0.04381173733270093,\n",
       " 'P1BreakPointWinRate_last5': -0.01772643368888634,\n",
       " 'P2BreakPointWinRate_last5': -0.010153733230494443,\n",
       " 'P1AvgDistanceRun': -0.045071123290307526,\n",
       " 'P2AvgDistanceRun': 0.03983210687559344,\n",
       " 'P1DistRun_last5': 0.009749308207586673,\n",
       " 'P2DistRun_last5': 0.009749308207586673,\n",
       " 'AvgRallyCount': 0.048922837247904506,\n",
       " 'last_5_RallyCount': -0.02472179600518684,\n",
       " 'P1NetPointWinRate': 0.2510982603683164,\n",
       " 'P2NetPointWinRate': -0.32994399058767315,\n",
       " 'P1NetPointWinRate_last5': -0.09691042209469297,\n",
       " 'P2NetPointWinRate_last5': 0.08518708315735922,\n",
       " 'P1_Score': 0.2694456593263807,\n",
       " 'P2_Score': 0.2694456593263807}"
      ]
     },
     "execution_count": 318,
     "metadata": {},
     "output_type": "execute_result"
    }
   ],
   "source": [
    "dictionary = dict(zip(list(X_train.columns), list(logreg.coef_[0])))\n",
    "dictionary"
   ]
  },
  {
   "cell_type": "markdown",
   "metadata": {},
   "source": [
    "# Random Forest"
   ]
  },
  {
   "cell_type": "markdown",
   "metadata": {},
   "source": [
    "## Simple Random Forest"
   ]
  },
  {
   "cell_type": "code",
   "execution_count": 319,
   "metadata": {},
   "outputs": [
    {
     "data": {
      "text/plain": [
       "RandomForestClassifier(bootstrap=True, class_weight=None, criterion='entropy',\n",
       "                       max_depth=7, max_features=3, max_leaf_nodes=None,\n",
       "                       min_impurity_decrease=0.0, min_impurity_split=None,\n",
       "                       min_samples_leaf=1, min_samples_split=2,\n",
       "                       min_weight_fraction_leaf=0.0, n_estimators=100,\n",
       "                       n_jobs=None, oob_score=False, random_state=None,\n",
       "                       verbose=0, warm_start=False)"
      ]
     },
     "execution_count": 319,
     "metadata": {},
     "output_type": "execute_result"
    }
   ],
   "source": [
    "# Instantiate and fit a RandomForestClassifier\n",
    "forest = RandomForestClassifier(n_estimators=100, max_features=3, max_depth= 7, criterion='entropy')\n",
    "forest.fit(X_train, y_train)"
   ]
  },
  {
   "cell_type": "code",
   "execution_count": 320,
   "metadata": {},
   "outputs": [
    {
     "name": "stdout",
     "output_type": "stream",
     "text": [
      "Accuracy is :0.7106179286335944\n",
      "Precision is :0.6705215419501134\n",
      "Recall is :0.8450985995998856\n",
      "\n",
      "AUC is :0.71\n"
     ]
    }
   ],
   "source": [
    "forest_pred = forest.predict(X_test)\n",
    "RForest_Eval = evaluate_class(y_test, forest_pred)"
   ]
  },
  {
   "cell_type": "code",
   "execution_count": 321,
   "metadata": {},
   "outputs": [],
   "source": [
    "rf_cm = confusion_matrix(y_test,forest_pred)\n",
    "rf_classes = ['P1 Wins', 'P2 Wins']"
   ]
  },
  {
   "cell_type": "code",
   "execution_count": 322,
   "metadata": {},
   "outputs": [
    {
     "name": "stdout",
     "output_type": "stream",
     "text": [
      "Confusion Matrix, without normalization\n",
      "[[1942 1453]\n",
      " [ 542 2957]]\n"
     ]
    },
    {
     "data": {
      "image/png": "[encoded data removed]",
      "text/plain": [
       "<Figure size 432x288 with 2 Axes>"
      ]
     },
     "metadata": {},
     "output_type": "display_data"
    }
   ],
   "source": [
    "plot_confusion_matrix(rf_cm, rf_classes,\n",
    "                          normalize=False,\n",
    "                          title='Confusion matrix',\n",
    "                          cmap=plt.cm.Blues)"
   ]
  },
  {
   "cell_type": "code",
   "execution_count": 323,
   "metadata": {},
   "outputs": [
    {
     "name": "stdout",
     "output_type": "stream",
     "text": [
      "There are 1942 True Positives\n",
      "There are 2957 True Negatives\n",
      "There are 542 False Positives\n",
      "There are 1453 False Negatives\n"
     ]
    }
   ],
   "source": [
    "matrix_interpretation(y_test,forest_pred)"
   ]
  },
  {
   "cell_type": "markdown",
   "metadata": {},
   "source": [
    "## Random Forest with GridSearch CV"
   ]
  },
  {
   "cell_type": "code",
   "execution_count": 324,
   "metadata": {},
   "outputs": [],
   "source": [
    "rfc=RandomForestClassifier(random_state=42)"
   ]
  },
  {
   "cell_type": "code",
   "execution_count": 325,
   "metadata": {},
   "outputs": [],
   "source": [
    "param_grid = { \n",
    "    'n_estimators': [100],\n",
    "    'max_features':[3,5,7],\n",
    "    'max_depth' : [5,7],\n",
    "    'criterion' :['gini', 'entropy']\n",
    "}"
   ]
  },
  {
   "cell_type": "code",
   "execution_count": 326,
   "metadata": {},
   "outputs": [
    {
     "data": {
      "text/plain": [
       "GridSearchCV(cv=3, error_score='raise-deprecating',\n",
       "             estimator=RandomForestClassifier(bootstrap=True, class_weight=None,\n",
       "                                              criterion='gini', max_depth=None,\n",
       "                                              max_features='auto',\n",
       "                                              max_leaf_nodes=None,\n",
       "                                              min_impurity_decrease=0.0,\n",
       "                                              min_impurity_split=None,\n",
       "                                              min_samples_leaf=1,\n",
       "                                              min_samples_split=2,\n",
       "                                              min_weight_fraction_leaf=0.0,\n",
       "                                              n_estimators='warn', n_jobs=None,\n",
       "                                              oob_score=False, random_state=42,\n",
       "                                              verbose=0, warm_start=False),\n",
       "             iid='warn', n_jobs=None,\n",
       "             param_grid={'criterion': ['gini', 'entropy'], 'max_depth': [5, 7],\n",
       "                         'max_features': [3, 5, 7], 'n_estimators': [100]},\n",
       "             pre_dispatch='2*n_jobs', refit=True, return_train_score=False,\n",
       "             scoring=None, verbose=0)"
      ]
     },
     "execution_count": 326,
     "metadata": {},
     "output_type": "execute_result"
    }
   ],
   "source": [
    "CV_rfc = GridSearchCV(estimator=rfc, param_grid=param_grid, cv= 3)\n",
    "CV_rfc.fit(X_train, y_train)"
   ]
  },
  {
   "cell_type": "code",
   "execution_count": 327,
   "metadata": {},
   "outputs": [
    {
     "data": {
      "text/plain": [
       "{'criterion': 'gini', 'max_depth': 7, 'max_features': 7, 'n_estimators': 100}"
      ]
     },
     "execution_count": 327,
     "metadata": {},
     "output_type": "execute_result"
    }
   ],
   "source": [
    "CV_rfc.best_params_"
   ]
  },
  {
   "cell_type": "markdown",
   "metadata": {},
   "source": [
    "### Best RandomForest from GridSearch"
   ]
  },
  {
   "cell_type": "code",
   "execution_count": 328,
   "metadata": {},
   "outputs": [
    {
     "data": {
      "text/plain": [
       "RandomForestClassifier(bootstrap=True, class_weight=None, criterion='gini',\n",
       "                       max_depth=7, max_features=7, max_leaf_nodes=None,\n",
       "                       min_impurity_decrease=0.0, min_impurity_split=None,\n",
       "                       min_samples_leaf=1, min_samples_split=2,\n",
       "                       min_weight_fraction_leaf=0.0, n_estimators=100,\n",
       "                       n_jobs=None, oob_score=False, random_state=42, verbose=0,\n",
       "                       warm_start=False)"
      ]
     },
     "execution_count": 328,
     "metadata": {},
     "output_type": "execute_result"
    }
   ],
   "source": [
    "best_rfc = RandomForestClassifier(random_state=42, \n",
    "                                max_features=7, n_estimators= 100,\n",
    "                                max_depth=7, criterion='gini')\n",
    "best_rfc.fit(X_train, y_train)"
   ]
  },
  {
   "cell_type": "code",
   "execution_count": 329,
   "metadata": {},
   "outputs": [],
   "source": [
    "best_rfc_preds = best_rfc.predict(X_test)"
   ]
  },
  {
   "cell_type": "code",
   "execution_count": 330,
   "metadata": {},
   "outputs": [
    {
     "name": "stdout",
     "output_type": "stream",
     "text": [
      "Accuracy is :0.7119234116623151\n",
      "Precision is :0.6616107669301431\n",
      "Recall is :0.8851100314375536\n",
      "\n",
      "AUC is :0.71\n",
      "Confusion Matrix, without normalization\n",
      "[[1811 1584]\n",
      " [ 402 3097]]\n",
      "There are 1811 True Positives\n",
      "There are 3097 True Negatives\n",
      "There are 402 False Positives\n",
      "There are 1584 False Negatives\n"
     ]
    },
    {
     "data": {
      "image/png": "[encoded data removed]",
      "text/plain": [
       "<Figure size 432x288 with 2 Axes>"
      ]
     },
     "metadata": {},
     "output_type": "display_data"
    }
   ],
   "source": [
    "Best_RForest_Eval = evaluate_class(y_test, best_rfc_preds)\n",
    "\n",
    "best_rf_cm = confusion_matrix(y_test,best_rfc_preds)\n",
    "rf_classes = ['P1 Wins', 'P2 Wins']\n",
    "\n",
    "plot_confusion_matrix(best_rf_cm, rf_classes,\n",
    "                          normalize=False,\n",
    "                          title='Confusion matrix',\n",
    "                          cmap=plt.cm.Blues)\n",
    "\n",
    "matrix_interpretation(y_test,best_rfc_preds)"
   ]
  },
  {
   "cell_type": "markdown",
   "metadata": {},
   "source": [
    "# AdaBoost and GradientBoost"
   ]
  },
  {
   "cell_type": "code",
   "execution_count": 331,
   "metadata": {},
   "outputs": [],
   "source": [
    "# Instantiate an AdaBoostClassifier\n",
    "AdaBoost_class = AdaBoostClassifier(random_state=42)\n",
    "\n",
    "AdaBoost_class.fit(X_train, y_train)\n",
    "\n",
    "# AdaBoost model predictions\n",
    "adaboost_test_preds = AdaBoost_class.predict(X_test)\n"
   ]
  },
  {
   "cell_type": "code",
   "execution_count": 333,
   "metadata": {},
   "outputs": [
    {
     "name": "stdout",
     "output_type": "stream",
     "text": [
      "Accuracy is :0.6489701189440092\n",
      "Precision is :0.6566947429567238\n",
      "Recall is :0.6461846241783367\n",
      "\n",
      "AUC is :0.65\n",
      "Confusion Matrix, without normalization\n",
      "[[1811 1584]\n",
      " [ 402 3097]]\n",
      "There are 2213 True Positives\n",
      "There are 2261 True Negatives\n",
      "There are 1238 False Positives\n",
      "There are 1182 False Negatives\n"
     ]
    },
    {
     "data": {
      "image/png": "[encoded data removed]",
      "text/plain": [
       "<Figure size 432x288 with 2 Axes>"
      ]
     },
     "metadata": {},
     "output_type": "display_data"
    }
   ],
   "source": [
    "#evaluating AdaBoost\n",
    "adaboost_eva=evaluate_class(y_test, adaboost_test_preds)\n",
    "\n",
    "ada_boost_cm = confusion_matrix(y_test,best_rfc_preds)\n",
    "ada_classes = ['P1 Wins', 'P2 Wins']\n",
    "\n",
    "plot_confusion_matrix(ada_boost_cm, ada_classes,\n",
    "                          normalize=False,\n",
    "                          title='Confusion matrix',\n",
    "                          cmap=plt.cm.Blues)\n",
    "\n",
    "matrix_interpretation(y_test, adaboost_test_preds)"
   ]
  },
  {
   "cell_type": "code",
   "execution_count": 334,
   "metadata": {},
   "outputs": [],
   "source": [
    "# Instantiate an GradientBoostingClassifier\n",
    "gboost_class = GradientBoostingClassifier(random_state=42)\n",
    "\n",
    "gboost_class.fit(X_train, y_train)\n",
    "\n",
    "\n",
    "# GradientBoosting model predictions\n",
    "g_boost_test_preds = gboost_class.predict(X_test)\n",
    "prob_g_boost_preds = gboost_class.predict_proba(X_test)\n"
   ]
  },
  {
   "cell_type": "code",
   "execution_count": 335,
   "metadata": {},
   "outputs": [
    {
     "name": "stdout",
     "output_type": "stream",
     "text": [
      "Accuracy is :0.7523933855526544\n",
      "Precision is :0.7080817464003716\n",
      "Recall is :0.8713918262360675\n",
      "\n",
      "AUC is :0.75\n",
      "Confusion Matrix, without normalization\n",
      "[[2138 1257]\n",
      " [ 450 3049]]\n",
      "There are 2138 True Positives\n",
      "There are 3049 True Negatives\n",
      "There are 450 False Positives\n",
      "There are 1257 False Negatives\n"
     ]
    },
    {
     "data": {
      "image/png": "[encoded data removed]",
      "text/plain": [
       "<Figure size 432x288 with 2 Axes>"
      ]
     },
     "metadata": {},
     "output_type": "display_data"
    }
   ],
   "source": [
    "#evaluating GradientBoosting\n",
    "GradientBoosting_eva=evaluate_class(y_test, g_boost_test_preds)\n",
    "\n",
    "g_boost_cm = confusion_matrix(y_test,g_boost_test_preds)\n",
    "g_classes = ['P1 Wins', 'P2 Wins']\n",
    "\n",
    "plot_confusion_matrix(g_boost_cm, g_classes,\n",
    "                          normalize=False,\n",
    "                          title='Confusion matrix',\n",
    "                          cmap=plt.cm.Blues)\n",
    "\n",
    "matrix_interpretation(y_test, g_boost_test_preds)"
   ]
  },
  {
   "cell_type": "code",
   "execution_count": 336,
   "metadata": {},
   "outputs": [],
   "source": [
    "# g_boost_test_preds\n",
    "# prob_g_boost_preds = gboost_class.predict_proba(X_test)\n",
    "def plot_ROC_curve(y_test, y_pred_prob):\n",
    "    fpr, tpr, thresholds = sklearn.metrics.roc_curve(y_test, y_pred_prob)\n",
    "    plt.plot(fpr, tpr);\n",
    "    plt.xlim([0.0, 1.0]);\n",
    "    plt.ylim([0.0, 1.0]);\n",
    "    plt.title('ROC Curve for Anaylst Rating Classifier');\n",
    "    plt.xlabel('False Positive Rate (1 - Specificity)');\n",
    "    plt.ylabel('True Positive Rate (Sensitivity)');\n",
    "    plt.grid(True);"
   ]
  },
  {
   "cell_type": "code",
   "execution_count": 337,
   "metadata": {},
   "outputs": [
    {
     "data": {
      "text/plain": [
       "array([[0.40098694, 0.59901306],\n",
       "       [0.90834913, 0.09165087],\n",
       "       [0.33712981, 0.66287019],\n",
       "       ...,\n",
       "       [0.5212578 , 0.4787422 ],\n",
       "       [0.32662047, 0.67337953],\n",
       "       [0.97086307, 0.02913693]])"
      ]
     },
     "execution_count": 337,
     "metadata": {},
     "output_type": "execute_result"
    }
   ],
   "source": [
    "prob_g_boost_preds"
   ]
  },
  {
   "cell_type": "code",
   "execution_count": 262,
   "metadata": {},
   "outputs": [],
   "source": [
    "# fpr, tpr, thresholds = roc_curve(y_test, prob_g_boost_preds)\n",
    "# plot_ROC_curve(y_test, prob_g_boost_preds)"
   ]
  },
  {
   "cell_type": "code",
   "execution_count": null,
   "metadata": {},
   "outputs": [],
   "source": [
    "y_scores_gb = gboost_class.decision_function(X_validation_sub)\n",
    "fpr_gb, tpr_gb, _ = roc_curve(y_validation_sub, y_scores_gb)\n",
    "roc_auc_gb = auc(fpr_gb, tpr_gb)\n"
   ]
  }
 ],
 "metadata": {
  "kernelspec": {
   "display_name": "Python 3",
   "language": "python",
   "name": "python3"
  },
  "language_info": {
   "codemirror_mode": {
    "name": "ipython",
    "version": 3
   },
   "file_extension": ".py",
   "mimetype": "text/x-python",
   "name": "python",
   "nbconvert_exporter": "python",
   "pygments_lexer": "ipython3",
   "version": "3.7.3"
  }
 },
 "nbformat": 4,
 "nbformat_minor": 2
}
